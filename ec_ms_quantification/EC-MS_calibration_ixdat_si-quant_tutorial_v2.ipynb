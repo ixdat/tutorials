{
 "cells": [
  {
   "cell_type": "markdown",
   "id": "25f0ba01",
   "metadata": {},
   "source": [
    "EC-MS quantification with packages ixdat and spectro_inlets_quantification\n",
    "=========================================================================\n",
    "\n",
    "\n",
    "This tutorial is to show how to use the packages ixdat and spectro_inlets_quantification to determine sensitivity factors and used them to obtain quantiative EC-MS data.\n",
    "\n",
    "There are three parts:\n",
    "\n",
    "- Importing, plotting and exporting data\n",
    "- Analyzing EC-MS calibrations\n",
    "    - EC calibration\n",
    "    - Gas calibration single analyte\n",
    "    - Gas calibration multiple analytes\n",
    "    - Calibration of isotopes\n",
    "- Using EC-MS calibrations for quantification\n",
    "\n",
    "Note: You need to have installed and ixdat version > 0.2.5.dev5 and spectro_inlets_quantification version > 1.2.1\n",
    "\n",
    "You can do so using the anaconda prompt and typing:\n",
    "\"pip install ixdat==0.2.5.dev5\"\n",
    "and\n",
    "\"pip install -i https://test.pypi.org/simple/ spectro-inlets-quantification==1.2.1\"\n",
    "\n",
    "Finally, you'll need to download some data to analyse in this tutorial from the data repository zenodo: https://doi.org/10.5281/zenodo.8400221\n",
    "Download the files and place them into the same folder as this tutorial."
   ]
  },
  {
   "cell_type": "markdown",
   "id": "7608a3ae",
   "metadata": {},
   "source": [
    "Setup\n",
    "=====\n",
    "\n",
    "The following code imports ixdat and tells it to use the external quant package. This causes ixdat to import spectro_inlets_quantification. Both packages print their versions when they are imported."
   ]
  },
  {
   "cell_type": "code",
   "execution_count": null,
   "id": "61185fea",
   "metadata": {},
   "outputs": [],
   "source": [
    "import ixdat\n",
    "\n",
    "\n",
    "ixdat.plugins.activate_si_quant()"
   ]
  },
  {
   "cell_type": "markdown",
   "id": "6977d51d",
   "metadata": {},
   "source": [
    "Later, when saving calibrations, the package will need to know which directory to use. We set that here to be the same folder as this jupyter notebook:"
   ]
  },
  {
   "cell_type": "code",
   "execution_count": null,
   "id": "681ce4ba",
   "metadata": {},
   "outputs": [],
   "source": [
    "si_quant = ixdat.plugins.si_quant\n",
    "si_quant.QUANT_DIRECTORY = \".\""
   ]
  },
  {
   "cell_type": "markdown",
   "id": "d5f5f6c6",
   "metadata": {},
   "source": [
    "Importing, plotting, and exporting\n",
    "===========================\n",
    "\n",
    "First, we import and plot the dataset we would like to calibrate. "
   ]
  },
  {
   "cell_type": "code",
   "execution_count": null,
   "id": "514a4247",
   "metadata": {},
   "outputs": [],
   "source": [
    "from ixdat import Measurement\n",
    "\n",
    "meas = Measurement.read(r\"./2022-07-19 10_02_32 HER_OER_calibration.tsv\", reader=\"zilien\")\n",
    "\n",
    "meas.plot_measurement()"
   ]
  },
  {
   "cell_type": "markdown",
   "id": "9e3257cc",
   "metadata": {},
   "source": [
    "That was a lot. Let's zoom in on an interesting part.\n",
    "\n",
    "Tip: if you're using a backend for matplotlib that returns scalable plots (not Jupyter notebooks), you can easily zoom into your plot to find the timestamps at start and end of the part you find interesting. A left mouse click into the plot will print the time where the mouse is pointing to. A right click at a different point following a left click will print the start and end as well as length of the timespan in between. "
   ]
  },
  {
   "cell_type": "code",
   "execution_count": null,
   "id": "0802eb70",
   "metadata": {},
   "outputs": [],
   "source": [
    "meas.plot_measurement(tspan=[5000, 5750])\n",
    "\n",
    "# help(meas.plot)  # This shows a full list of customization arguments to the plot function"
   ]
  },
  {
   "cell_type": "markdown",
   "id": "3835bd2f",
   "metadata": {},
   "source": [
    "The EC data looks a bit noisy - let's use the EC data as saved by ECLab here instead. First we import the MS data only from the Zilien data file:\n",
    "\n",
    "Note, if you use Zilien vs. 2.6.0 or higher, Zilien will export the same data as saved by ECLab, so this will no longer be necessary."
   ]
  },
  {
   "cell_type": "code",
   "execution_count": null,
   "id": "0f278f86",
   "metadata": {},
   "outputs": [],
   "source": [
    "ms_meas = Measurement.read(r\"./2022-07-19 10_02_32 HER_OER_calibration.tsv\", reader=\"zilien\", technique=\"MS\")\n",
    "ms_meas.replace_series(\"Ewe/V\", None)\n",
    "ms_meas.replace_series(\"I/mA\", None)"
   ]
  },
  {
   "cell_type": "markdown",
   "id": "823eabcf",
   "metadata": {},
   "source": [
    "Then we import the electrochemistry data from the text files exported by ECLab:"
   ]
  },
  {
   "cell_type": "code",
   "execution_count": null,
   "id": "6e6a0652",
   "metadata": {},
   "outputs": [],
   "source": [
    "ecdata_meas = Measurement.read_set(r\".\", suffix=\".mpt\", reader=\"biologic\")"
   ]
  },
  {
   "cell_type": "markdown",
   "id": "4513801a",
   "metadata": {},
   "source": [
    "And combine everything:"
   ]
  },
  {
   "cell_type": "code",
   "execution_count": null,
   "id": "46c13e0a",
   "metadata": {},
   "outputs": [],
   "source": [
    "meas_combi = ms_meas + ecdata_meas\n",
    "\n",
    "meas_combi.plot()\n",
    "meas_combi.plot(tspan=[5000, 5750])"
   ]
  },
  {
   "cell_type": "markdown",
   "id": "b6f46b12",
   "metadata": {},
   "source": [
    "Now that looks better! Let's export that bit so we can share it with someone without exceeding an attachment limit:"
   ]
  },
  {
   "cell_type": "code",
   "execution_count": null,
   "id": "f8b95352",
   "metadata": {},
   "outputs": [],
   "source": [
    "meas_part = meas_combi.cut(tspan=[5000, 5750])\n",
    "# print(meas_part.grab(\"selector\"))\n",
    "meas_part.export(\"the_good_bit.csv\")"
   ]
  },
  {
   "cell_type": "markdown",
   "id": "bc73d158",
   "metadata": {},
   "source": [
    "ixdat can of course read the files it exports:"
   ]
  },
  {
   "cell_type": "code",
   "execution_count": null,
   "id": "b0325f91",
   "metadata": {},
   "outputs": [],
   "source": [
    "meas_loaded = Measurement.read(\"the_good_bit.csv\", reader=\"ixdat\", technique=\"EC-MS\")\n",
    "\n",
    "meas_loaded.plot_measurement()"
   ]
  },
  {
   "cell_type": "markdown",
   "id": "8824c4cd",
   "metadata": {},
   "source": [
    "Calibrations\n",
    "==========\n",
    "\n",
    "EC-MS calibration\n",
    "-------------------------\n",
    "\n",
    "Now, we analyze EC-MS calibration measurements.\n",
    "While ixdat comes with some basic functions for quantification, there is a more powerful package available: spectro_inlets_quantification. We will be using this package as a plugin to ixdat in this tutorial (this means that instead of using the native ixdat functions, calling the same methods will use methods from spectro_inlets_quantification instead).\n",
    "\n",
    "(Note: The main difference between the native ixdat methods and those available in spectro_inlets_quantification is that the latter is able to handle gas mixtures. When calculating the gas flux through the capillary using the capillary equation, it will consider how properties change with composition - such as the effective mass and the viscosity - the latter changing non-linearly with composition. Additionally, it will also consider overlapping mass fragments and calculate the flux based on a matrix of sensitivity factors, rather than just looking at the primary mass of each molecule.)\n",
    "\n",
    "So, let's get started by activating the plugin which will import the package automatically:\n"
   ]
  },
  {
   "cell_type": "code",
   "execution_count": null,
   "id": "997e42df-1317-4929-ac38-f7671f688d0e",
   "metadata": {},
   "outputs": [],
   "source": [
    "ixdat.config.plugins.activate_si_quant()"
   ]
  },
  {
   "cell_type": "markdown",
   "id": "8545db14",
   "metadata": {},
   "source": [
    "Before we go into MS calibration, let's first calibrate the electrochemisty data. We know the geometric area of the electrode, so we can normalize the current: it's a 5mm diameter disk, area = 0.196 cm^2\n",
    "We used an RHE reference electrode, so we assume that the potential difference between our reference electrode and the RHE potential is zero. We did not determine the Ohmic drop, but we will assume that it was 0 (even though that is not entirely correct), to demonstrate how we can calibrate for it. "
   ]
  },
  {
   "cell_type": "code",
   "execution_count": null,
   "id": "170e2733",
   "metadata": {},
   "outputs": [],
   "source": [
    "meas.calibrate(RE_vs_RHE=0, A_el=0.196, R_Ohm=0)\n",
    "# select the first hydrogen calibration and plot with calibrated EC data\n",
    "meas.plot_measurement(tspan=[0,4900])"
   ]
  },
  {
   "cell_type": "markdown",
   "id": "51a4c808",
   "metadata": {},
   "source": [
    "There is some data here before the hydrogen calibration measurement starts; let's shift t=0 to the right, to when the CPs start. Note that if you re-run this part, the time will be shifted further every time. Outcomment it if you do not want to move the start further."
   ]
  },
  {
   "cell_type": "code",
   "execution_count": null,
   "id": "65753538",
   "metadata": {},
   "outputs": [],
   "source": [
    "meas.tstamp += 1700"
   ]
  },
  {
   "cell_type": "markdown",
   "id": "749d8874",
   "metadata": {},
   "source": [
    "The raw data is easily plotted with the plot_measurement function, which doesn't only create a figure, but also returns\n",
    "a list of three axes for (i) ms, (ii) potential, and (iii) current. See ``help(meas.plot_measurement)`` for customization. \n",
    "\n",
    "We will be adding to these axes later to indicate the timespans used for the calibrations."
   ]
  },
  {
   "cell_type": "code",
   "execution_count": null,
   "id": "68a28593",
   "metadata": {},
   "outputs": [],
   "source": [
    "axes_a = meas.plot_measurement(tspan=(0, 3200))"
   ]
  },
  {
   "cell_type": "markdown",
   "id": "a01b6e5c",
   "metadata": {},
   "source": [
    "Now, this is a standard EC-MS plot, which is in itself not bad. Still, sometimes one might like to change something about it, let's say the size of the axis labels, the position of the legend, or the dimensions of the figure. To do this, we can name the figure by getting it via the first axis, which then allows us to modify the plot like any regular matplotlib plot. This only works if the plot has not been printed yet, so we need to define ``axes_a`` again at the beginning. Let's make the plot wider, as an example:"
   ]
  },
  {
   "cell_type": "code",
   "execution_count": null,
   "id": "49dd450c",
   "metadata": {},
   "outputs": [],
   "source": [
    "axes_a = meas.plot_measurement(tspan=(0, 3200))\n",
    "fig_a = axes_a[0].get_figure()  # name the figure by getting it via the first axis.\n",
    "fig_a.set_figwidth(\n",
    "    fig_a.get_figwidth() * 2.5\n",
    ")  # make it 2.5 times as wide as it is tall"
   ]
  },
  {
   "cell_type": "markdown",
   "id": "f5c1e4ba",
   "metadata": {},
   "source": [
    "Great! Now we're ready to use this data to calibrate for H2 at m/z=2. For this we use the ixdat method ``ecms_calibration_curve``, which automatically selects and integrates M2 signal and electrochemical current in the given timespans. "
   ]
  },
  {
   "cell_type": "code",
   "execution_count": null,
   "id": "3b3cfe7e",
   "metadata": {},
   "outputs": [],
   "source": [
    "# redefine this axis, so we can use it here (since Jupyter doesn't update already printed plots).\n",
    "axes_a = meas.plot_measurement(tspan=(0, 3200)) \n",
    "# calculate the calibration factor\n",
    "cal_point_H2, ax_b = meas.ecms_calibration_curve(\n",
    "    mol=\"H2\",\n",
    "    mass=\"M2\",\n",
    "    n_el=-2, # remember to use the correct sign: minus for reduction reactions, plus for oxidation reactions\n",
    "    tspan_list=[(450, 500), (1000, 1050), (1550, 1600), (2200, 2250), (2750, 2800)],  # timespans of H2 evolution\n",
    "    tspan_bg=(0, 100),\n",
    "    ax=\"new\",\n",
    "    axes_measurement=axes_a, # to highlight the integrated areas on the plot defined above\n",
    "    return_ax = True # if True, returns the calibration curve axis as a second element\n",
    ") \n",
    "# NOTE, it uses and highlights the electrochemical current, not the calculated current density - this will therefore look a bit odd in the plot"
   ]
  },
  {
   "cell_type": "markdown",
   "id": "53d6f687",
   "metadata": {},
   "source": [
    "Because we asked for ``return_ax``, two arguments are returned:\n",
    "The first, which we call ``cal_point_H2``, is a ``CalPoint`` for H2.\n",
    "The second, which we call ``ax_H2``, is the axis where it plots the calibration curve.\n",
    "As we asked for ``axes_measurement``, to be plotted on ``axes_a``, the areas that were integrated are highlighted on that axes.\n",
    "\n",
    "The attribute ``cal_point_H2.F`` is the slope of the calibration curve, which is the sensitivity factor in C/mol.\n",
    "(Note that this calibration_curve works with integrals rather than simply the rates. The latter is not yet implemented in ixdat.)"
   ]
  },
  {
   "cell_type": "code",
   "execution_count": null,
   "id": "f1113630",
   "metadata": {},
   "outputs": [],
   "source": [
    "print(cal_point_H2)  # prints: CalPoint(mol='H2', mass='M2', F=0.3378605863775754, \n",
    "# f=None, F_type='internal', precision=None, background_signal=None, background_std=None, \n",
    "# description=None, date='23H10', setup=None, internal_conditions=None, external_conditions=None)\n",
    "\n",
    "# save the figure:\n",
    "fig_b = ax_b.get_figure()\n",
    "fig_b.savefig(\"hydrogen_calibration.png\")  # you can use eg .svg instead for vector graphics."
   ]
  },
  {
   "cell_type": "markdown",
   "id": "7eb9e86c",
   "metadata": {},
   "source": [
    "Tip: instead of selecting the time spans manually, you can also use the option of passing a ``selector_name (str)`` (Name of selector which identifies the periods of steady electrolysis for automatic selection of timespans of steady electrolysis. E.g. ``\"selector\"`` or ``\"Ns\"`` for biologic EC data) and a ``selector_list`` instead of the ``tspan_list``. Note that you need to have information on the different parts of the EC data in your measurement data to take advanatge of this. If you used a Zilien version < 2.6.0 when running the measurement, this requires that you import the EC data from the ECLab. Here, we can use the data imported to ``meas_combi``.\n",
    "\n",
    "First, let's figure out what we should pass to selector list. To this end, we can plot the selector we want to use in our regular EC-MS plot, for example instead of the current: "
   ]
  },
  {
   "cell_type": "code",
   "execution_count": null,
   "id": "e3635d7a",
   "metadata": {},
   "outputs": [],
   "source": [
    "axes_a2 = meas_combi.plot_measurement(tspan=(0, 4700), J_name=\"selector\")\n",
    "axes_a2[3].set_ylim(5,15)"
   ]
  },
  {
   "cell_type": "code",
   "execution_count": null,
   "id": "ec936f7b",
   "metadata": {},
   "outputs": [],
   "source": [
    "# redefine this axis, so we can use it here (since Jupyter doesn't update already printed plots).\n",
    "axes_a2 = meas_combi.plot_measurement(tspan=(1900, 4700))\n",
    "# calculate the calibration factor\n",
    "cal_point_H2_selector, ax_b2 = meas_combi.ecms_calibration_curve(\n",
    "    mol=\"H2\",\n",
    "    mass=\"M2\",\n",
    "    n_el=-2, # remember to use the correct sign: minus for reduction reactions, plus for oxidation reactions\n",
    "    selector_name=\"selector\",\n",
    "    selector_list=[6,8,10,12,14],  # sections of H2 evolution\n",
    "    tspan_bg=(1800, 1900),\n",
    "    ax=\"new\",\n",
    "    axes_measurement=axes_a2, # to highlight the integrated areas on the plot defined above\n",
    "    return_ax = True # if True, returns the calibration curve axis as a second element\n",
    ")\n",
    "print(cal_point_H2_selector)  # prints the CalPoint object"
   ]
  },
  {
   "cell_type": "markdown",
   "id": "854b7f6a",
   "metadata": {},
   "source": [
    "Gas calibration\n",
    "-------------------------\n",
    "\n",
    "Now, the gas calibration works a bit differently than the EC-MS calibration, as it relies on knowing the flux of molecules into the MS for the inlet used. As mentioned above, the plugin package we're using is particlarly powerful for this type of measurements. Note that the syntax here is quite a bit different from how you would use similar methods native to ixdat (but this one is better, so no need to worry about it). \n",
    "\n",
    "Single gas standard\n",
    "-------------------\n",
    "\n",
    "Let's import the calibration data first:"
   ]
  },
  {
   "cell_type": "code",
   "execution_count": null,
   "id": "1a10e3f9",
   "metadata": {},
   "outputs": [],
   "source": [
    "meas_gascal_H2 = Measurement.read(r\"./2022-07-20 11_24_43 gas_cal_high_H2.tsv\", reader=\"zilien\", \n",
    "                                 technique=\"MS\")\n",
    "\n",
    "meas_gascal_H2.plot()\n",
    "# We don't need the first 1500s of the measurement, where the signals fluctuate a bit while pumping and flushing the gas lines\n",
    "meas_gascal_H2 = meas_gascal_H2.cut(tspan=[1500, 6000])\n",
    "meas_gascal_H2.plot_measurement()"
   ]
  },
  {
   "cell_type": "markdown",
   "id": "df522c8e-6209-43f5-a9a6-1b0b607e7ff7",
   "metadata": {},
   "source": [
    "Most often, we will be using a standard Spectro Inlets Chip, and be operating at (or close to) standard conditions. "
   ]
  },
  {
   "cell_type": "markdown",
   "id": "9117144a-233b-4a30-9442-76d417dae31d",
   "metadata": {},
   "source": [
    "And if we are using a non-standard chip or a different capillary inlet to a mass spectrometer, we can also pass the non-standard chip dimensions, by first creating a ``Chip`` object.\n",
    "\n",
    "Note: This is not necessary for the standard Spectro Inlets chips, we are just showing it here for completeness sake."
   ]
  },
  {
   "cell_type": "code",
   "execution_count": null,
   "id": "cc486cde",
   "metadata": {},
   "outputs": [],
   "source": [
    "my_chip = ixdat.plugins.si_quant.Chip()\n",
    "\n",
    "print(f\"chip capillary is {my_chip.l_cap} m\")"
   ]
  },
  {
   "cell_type": "markdown",
   "id": "fc93fab3",
   "metadata": {},
   "source": [
    "If we want to change the pressure or temperature at which to calculate the gas flux, we can do this through the `Chip`.\n",
    "\n",
    "(Note: spectro_inlets_quantification stores the pressure and temperature in a ``Medium``, wich is a Singleton, i.e. you don't need to pass it to other functions, when set once as below, it is available to the whole package already.)"
   ]
  },
  {
   "cell_type": "code",
   "execution_count": null,
   "id": "7f0fc25f",
   "metadata": {},
   "outputs": [],
   "source": [
    "my_chip.p = 1e5   # one bar in [Pa]\n",
    "my_chip.T = 298.15   # 25 deg C in [K]"
   ]
  },
  {
   "cell_type": "markdown",
   "id": "d0af6530",
   "metadata": {},
   "source": [
    "Alright, we are all set up. For a singe point calibration of a pure gas (the make-up gas) and we can use the method ``gas_flux_calibration``:"
   ]
  },
  {
   "cell_type": "code",
   "execution_count": null,
   "id": "3e04fa46-e5cf-44cb-8071-824e1df02dab",
   "metadata": {},
   "outputs": [],
   "source": [
    "cal_He = meas_gascal_H2.gas_flux_calibration(mol=\"He\",  # the molecule to calibrate\n",
    "    mass=\"M4\",  # the mass to calibrate at\n",
    "    tspan=[1900, 2000], # the timespan to average the signal over\n",
    "                                            )\n",
    "print(cal_He)"
   ]
  },
  {
   "cell_type": "markdown",
   "id": "4bcaa8b7-24d5-485d-829d-8b6d553df390",
   "metadata": {},
   "source": [
    "Note: When using ixdat's native methods, you can also use the method ``gas_flux_calibration_curve``, to which you can pass several timespans corresponding to different gas compositions, i.e. you will get a multi-point calibration in a similar way as from the EC calibration. However, this method relies on the calculation of the flux of the carrier gas through the capillary and assumes that this flux will not be affected by the change in gas composition due to the analytes. This assumption likely holds as long as the gas concentration is <10% (better <1%), but is ideally only used for small analyte concentrations. This function has not been translated to use the spectro_inlets_quantification plugin, which will allow it to consider the influence of the analyte on the carrier gas. This will hopefully be done in the near future. "
   ]
  },
  {
   "cell_type": "markdown",
   "id": "8e0db78c-a79e-490d-85cc-87ec36686b22",
   "metadata": {},
   "source": [
    "If we have a more complex gas composition (e.g. a calibration gas containing 1 or more analyte gases), we can use the method ``multicomp_gas_flux_calibration``. It will take care of the changed flux properties of a gas mix compared to single gases based on the composition you pass."
   ]
  },
  {
   "cell_type": "code",
   "execution_count": null,
   "id": "66d4c532",
   "metadata": {},
   "outputs": [],
   "source": [
    "cal_H2_2 = meas_gascal_H2.multicomp_gas_flux_calibration(\n",
    "    gas={\"He\": 0.999, \"H2\":10e-3},\n",
    "    mol_list=[\"He\", \"H2\"],  # the molecules to calibrate\n",
    "    mass_list=[\"M4\", \"M2\"],  # the masses to calibrate at\n",
    "    tspan=[2900, 3100], # the timespans to average the signal over\n",
    "    gas_bg=\"He\", # the background gas\n",
    "    tspan_bg=[1900, 2000], # the timespan for background subtraction (optional)\n",
    ")\n",
    "print(cal_H2_2)"
   ]
  },
  {
   "cell_type": "markdown",
   "id": "8758511d",
   "metadata": {},
   "source": [
    "Multiple gas standard\n",
    "-------------------\n",
    "\n",
    "Sometimes we have more than one gas in our calibration data. We can use the same method for this as above, but let's import the multi-gas calibration data first:"
   ]
  },
  {
   "cell_type": "code",
   "execution_count": null,
   "id": "f07040f0",
   "metadata": {},
   "outputs": [],
   "source": [
    "meas_gascal_multi = Measurement.read(\n",
    "        r\"./2023-05-15 14_42_57 mix_cal_gas_glass_slide.tsv\",\n",
    "        technique=\"MS\",\n",
    "    )\n",
    "meas_gascal_multi.plot_measurement(legend=None) # not show the legend because it's very long\n",
    "# We don't need the first 60000s of the measurement\n",
    "meas_gascal_multi = meas_gascal_multi.cut(tspan=[60000, 71000])\n",
    "meas_gascal_multi.plot_measurement(legend=None)"
   ]
  },
  {
   "cell_type": "markdown",
   "id": "101c9566-9454-45f6-b9e1-2c84107c7fd5",
   "metadata": {},
   "source": [
    "Ok, let's calibrate. It works just like before, except we add more gases to the list this time."
   ]
  },
  {
   "cell_type": "code",
   "execution_count": null,
   "id": "13effabd-787c-48c0-b7c5-ea9dbc7b5607",
   "metadata": {},
   "outputs": [],
   "source": [
    "cal_Ar = meas_gascal_multi.gas_flux_calibration(mol=\"Ar\", mass=\"M40\", tspan= [60695, 61873])\n",
    "print(cal_Ar)\n",
    "\n",
    "cal_multi = meas_gascal_multi.multicomp_gas_flux_calibration(\n",
    "    gas={\"Ar\": 1, \"CO2\": 1140e-6, \"O2\": 1053e-6, \"H2\": 931e-6, \"C2H4\": 877e-6, \"CO\": 991e-6},\n",
    "    mol_list=[\"CO2\", \"O2\",  \"H2\", \"C2H4\", \"CO\"],  # the molecules to calibrate\n",
    "    mass_list=[\"M44\", \"M32\",  \"M2\", \"M26\", \"M28\"],  # the masses to calibrate at\n",
    "    tspan=[70076, 70830], # the timespans to average the signal over\n",
    "    gas_bg=\"Ar\", # the background gas\n",
    "    tspan_bg=[60695, 61873], # the timespan for background subtraction (optional)\n",
    ")\n",
    "print(cal_multi)"
   ]
  },
  {
   "cell_type": "markdown",
   "id": "75b326d4",
   "metadata": {},
   "source": [
    "Combining calibration results\n",
    "=============================\n",
    "\n",
    "si_quant Calibration and CalPoint objects can be combined using the `+` operator:"
   ]
  },
  {
   "cell_type": "code",
   "execution_count": null,
   "id": "9338244e",
   "metadata": {},
   "outputs": [],
   "source": [
    "calibration = cal_multi + cal_Ar + cal_He\n",
    "# NOTE, there is a bug that causes this to crash when adding cal_H2_2! \n",
    "# We will figure this out later. For now, no problem. The calibration will use \n",
    "# The value for H2 in cal_multi and the value for He in cal_He."
   ]
  },
  {
   "cell_type": "markdown",
   "id": "9bdfd0af-49f7-4ac8-a61a-979c2224f97e",
   "metadata": {},
   "source": [
    "Adding isotopes to the calibration\n",
    "-------------------------------\n",
    "\n",
    "If you work with isotope labelled gas, you can translate the sensitivity factors from one isotope to others. If we want to quantify for oxygen species containing 18O, this would look like this:"
   ]
  },
  {
   "cell_type": "code",
   "execution_count": null,
   "id": "751d6b9a-0375-444e-a69c-c238b23f0a3a",
   "metadata": {},
   "outputs": [],
   "source": [
    "calibration.add_isotopes({\"CO2\": (\"M44\", [\"M46\", \"M48\"]), \"O2\": (\"M32\", [\"M34\", \"M36\"]), \"CO\": (\"M28\", [\"M30\"])})\n",
    "print(calibration)"
   ]
  },
  {
   "cell_type": "markdown",
   "id": "8ec90c54",
   "metadata": {},
   "source": [
    "Visualizing the calibration\n",
    "-----------------------------------\n",
    "\n",
    "The `Calibration` object has methods for analyzing the sensitivity factors it contains. A simple way to get an overview of them is to plot all the sensitivity factors vs m/z:"
   ]
  },
  {
   "cell_type": "code",
   "execution_count": null,
   "id": "ff486979",
   "metadata": {},
   "outputs": [],
   "source": [
    "calibration.plot_as_spectrum()"
   ]
  },
  {
   "cell_type": "markdown",
   "id": "843aa107",
   "metadata": {},
   "source": [
    "Saving the calibration\n",
    "-------------------------------\n",
    "Also, we might want to use the calibration for other measurements later, so let's save the calibration.\n",
    "\n",
    "The following code saves it!\n",
    "\n",
    "Remember, at the start of this tutorial, we set the directory to save the calibration to the current folder. Next to this jupyter notebook, you should now see a folder called \"calibrations\". In there is a file with the extension \".yml\". This is a text file, which you can read with any plain text editor (for example Notepad)."
   ]
  },
  {
   "cell_type": "code",
   "execution_count": null,
   "id": "9a8ec94c",
   "metadata": {},
   "outputs": [],
   "source": [
    "calibration.save(\"my_tutorial_calibration\") "
   ]
  },
  {
   "cell_type": "markdown",
   "id": "7debbcf5",
   "metadata": {},
   "source": [
    "Applying a calibration to your dataset\n",
    "------------------------------------------------------\n",
    "\n",
    "In the following we will explore how to apply the EC-MS calibration we determined above to a dataset. There are several ways of how you can pass a calibration to an ``ECMSMeasurement`` objects. We will only address two ways here.\n",
    "\n",
    "Let's start by loading the calibration object that we saved earlier:"
   ]
  },
  {
   "cell_type": "code",
   "execution_count": null,
   "id": "b28ddea0",
   "metadata": {},
   "outputs": [],
   "source": [
    "loaded_cal = ixdat.plugins.si_quant.Calibration.load(\n",
    "    \"my_tutorial_calibration\"\n",
    ")\n",
    "print(loaded_cal)"
   ]
  },
  {
   "cell_type": "code",
   "execution_count": null,
   "id": "eb29c6de",
   "metadata": {},
   "outputs": [],
   "source": [
    "good_bit = Measurement.read(\n",
    "    \"the_good_bit.csv\", reader=\"ixdat\", technique=\"EC-MS\"\n",
    ")\n",
    "good_bit.plot_measurement()"
   ]
  },
  {
   "cell_type": "markdown",
   "id": "77be3511",
   "metadata": {},
   "source": [
    "And apply the calibration on the data.\n",
    "When using the spectro_inlets_quantification plugin, this is done in a special way. What we actually set is a \"quantifier\", which apply the calibration to calculate molecular fluxes from MS data. We also have to tell it which m/z values to use (data for which should of course be in the Measurement)."
   ]
  },
  {
   "cell_type": "code",
   "execution_count": null,
   "id": "8f933f9b",
   "metadata": {},
   "outputs": [],
   "source": [
    "good_bit.set_quantifier(\n",
    "    calibration=loaded_cal,\n",
    "    mol_list=[\"H2\", \"O2\"],\n",
    "    mass_list=[\"M2\", \"M32\"],\n",
    ")\n",
    "\n",
    "# Check the MS calibration most recently added to the data\n",
    "print(good_bit.quantifier.calibration)\n",
    "\n",
    "good_bit.plot_measurement()\n",
    "# By default, it still plots uncalibrated data. But now we can ask to plot molecular fluxes! (next cell)"
   ]
  },
  {
   "cell_type": "markdown",
   "id": "3b94c9d9",
   "metadata": {},
   "source": [
    "As we only provide the calibration for some of the masses, the standard plot is still showing uncalibrated MS data. If we pass the list of molecules where we do have a calibration, then ``plot_measurement()`` will plot the calibrated fluxes instead."
   ]
  },
  {
   "cell_type": "code",
   "execution_count": null,
   "id": "7f75e4d3",
   "metadata": {},
   "outputs": [],
   "source": [
    "good_bit.plot_measurement(mol_list=[\"H2\", \"O2\"])"
   ]
  },
  {
   "cell_type": "markdown",
   "id": "18cbdeb2",
   "metadata": {},
   "source": [
    "You can also get the fluxes with the `grab_flux` method. It works the same as `grab` but takes a molecule name as the input:"
   ]
  },
  {
   "cell_type": "code",
   "execution_count": null,
   "id": "f6d95288",
   "metadata": {},
   "outputs": [],
   "source": [
    "from matplotlib import pyplot as plt\n",
    "\n",
    "\n",
    "t, n_dot_H2 = good_bit.grab_flux(\"H2\", tspan=[5050, 5100])\n",
    "\n",
    "fig, ax = plt.subplots()\n",
    "\n",
    "ax.plot(t, n_dot_H2, \"b\")\n",
    "ax.set_xlabel(\"time / [s]\")\n",
    "ax.set_ylabel(\"my calibrated H2 signal / [mol/s]\")"
   ]
  },
  {
   "cell_type": "markdown",
   "id": "1a16142c",
   "metadata": {},
   "source": [
    "Alternatively, if we calculate the calibration factors in the same ``ixdat`` session as our data treatment, we can also directly apply the calibration without having to create the calibration object first. In this way, we can also make sure that we use a specific calibration factor if we have determined several for one analyte."
   ]
  },
  {
   "cell_type": "code",
   "execution_count": null,
   "id": "31e37d20",
   "metadata": {},
   "outputs": [],
   "source": [
    "# Lets import the file again, so we can be sure there's no calibration attached yet\n",
    "good_bit2 = Measurement.read(\n",
    "    \"the_good_bit.csv\", reader=\"ixdat\", technique=\"EC-MS\"\n",
    ")\n",
    "# Add the EC calibration first\n",
    "good_bit2.calibrate(RE_vs_RHE=0, A_el=0.197)"
   ]
  },
  {
   "cell_type": "code",
   "execution_count": null,
   "id": "04270f65",
   "metadata": {},
   "outputs": [],
   "source": [
    "# Let's calibrate using the EC-MS calibration for hydrogen and the gas calibration for oxygen\n",
    "good_bit2.set_quantifier(\n",
    "    calibration=loaded_cal,\n",
    "    mol_list=[\"H2\", \"O2\"],\n",
    "    mass_list=[\"M2\", \"M32\"],\n",
    ")\n",
    "\n",
    "# Check the calibration most recently added to the data\n",
    "print(good_bit2.calibration_list[0].ms_cal_results)\n",
    "\n",
    "\n",
    "\n",
    "\n",
    "# And plot it once again:\n",
    "good_bit2.plot_measurement(mol_list=[\"H2\", \"O2\"])"
   ]
  },
  {
   "cell_type": "markdown",
   "id": "dc46d770",
   "metadata": {},
   "source": [
    "Plotting calibrated EC-MS data\n",
    "=========================\n",
    "\n",
    "Now that we've calibrated the data, we want to make some nice plots. In the sections below, we will explore some ways of using ixdat's plotter and modify the plots using matplotlib."
   ]
  },
  {
   "cell_type": "markdown",
   "id": "c66d3613",
   "metadata": {},
   "source": [
    "EC-MS plot calibrated gases using two y axes\n",
    "-----------------------------------------------------------------"
   ]
  },
  {
   "cell_type": "code",
   "execution_count": null,
   "id": "d7335c18",
   "metadata": {},
   "outputs": [],
   "source": [
    "meas_a = good_bit2.cut(tspan=[5035, 5200]) #cut the data to the interesting section\n",
    "\n",
    "\n",
    "# NOTE: As of now, the quantifier is not kept when cutting a measurement, so we set it again here. \n",
    "meas_a.set_quantifier(good_bit.quantifier)  # we apply the same quantifier to the cut measurement\n",
    "# This will be fixed in the next release, so that setting the quantifier again is not necessary.\n",
    "\n",
    "meas_a.tstamp += meas_a.t[0]  #to get the figure showing the time starting at 0\n",
    "\n",
    "axes_a = meas_a.plot_measurement(\n",
    "    mol_lists=[\n",
    "        [\"H2\"],  # left y-axis\n",
    "        [\"O2\"],  # right\n",
    "    ],\n",
    "    tspan_bg=[\n",
    "        None,\n",
    "        [0, 20],\n",
    "    ],  # [left, right] y-axes\n",
    "    unit=[\"nmol/s\", \"pmol/s/cm^2\"],  # [left, right] y-axes\n",
    "    logplot=False,\n",
    "    legend=False, # e.g. if you want to add labels to the figure manually later\n",
    ")\n",
    "axes_a[0].set_ylabel(\"cal. sig. / [nmol s$^{-1}$]\")\n",
    "axes_a[2].set_ylabel(\"cal. sig. / [pmol s$^{-1}$cm$^{-2}$]\")\n",
    "\n",
    "fig_a = axes_a[0].get_figure()\n",
    "fig_a.savefig(\"fig_a.png\")"
   ]
  },
  {
   "cell_type": "markdown",
   "id": "ef2e8faa",
   "metadata": {},
   "source": [
    " --- Cyclic voltammetry MS plot of two of the cycles ---"
   ]
  },
  {
   "cell_type": "code",
   "execution_count": null,
   "id": "8d56ff17",
   "metadata": {},
   "outputs": [],
   "source": [
    "meas_b = good_bit2.as_cv() #by defining it as cv, meas_b.plot() would automatically plot vs potential\n",
    "meas_b.set_quantifier(good_bit2.quantifier)  # again, this will not be necessary in the next release\n",
    "\n",
    "#as soon as it's CV you can index by \"cycle\"\n",
    "meas_b.redefine_cycle(start_potential=0.4, redox=1)\n",
    "#now you can choose where a cycle starts, here defined as potential = 0.4, anodic/oxidizing = 1 (or True), cathodic/reducing = 0 (or False)\n",
    "#probably the syntax is inspired by biologic data, but it actually has nothing to do with the old biologic data\n",
    "#initial cycle is 0, first time the set condition is met, starts cycle 1 etc.\n",
    "\n",
    "\n",
    "# Again, because the quantifier does not copy over automatically during selection, \n",
    "# we would need to reset the quantifier for each cycle selection. The following function\n",
    "# defines a shortcut to do so:\n",
    "def select_cycle(measurement, cycle_number):\n",
    "    \"\"\"Select a cycle from the measurement and apply the quantifier\"\"\"\n",
    "    cycle = measurement[cycle_number]\n",
    "    cycle.set_quantifier(measurement.quantifier)\n",
    "    return cycle\n",
    "\n",
    "\n",
    "axes_b = select_cycle(meas_b, 2).plot_vs_potential(\n",
    "    mol_list=[\"H2\", \"O2\"],\n",
    "    unit=\"pmol/s/cm^2\",\n",
    "    logplot=False,\n",
    "    legend=False,\n",
    "    remove_background=True, #should remove the minimum value from the cut dataset, but it is possible somewhere to actually \n",
    "    # the background (possibly where you define the dataset)\n",
    ")\n",
    "select_cycle(meas_b, 3).plot_vs_potential(\n",
    "    mol_list=[\"H2\", \"O2\"],\n",
    "    unit=\"pmol/s/cm^2\",\n",
    "    logplot=False,\n",
    "    legend=False,\n",
    "    remove_background=True,\n",
    "    axes=axes_b, #to reuse the axis for co-plotting two separate parts of the measurement\n",
    "    linestyle=\"--\",\n",
    ")\n",
    "axes_b[0].set_ylabel(\"cal. sig. / [pmol s$^{-1}$cm$^{-2}$]\")\n",
    "axes_b[0].set_xlabel(meas_b.U_name)\n",
    "\n",
    "fig_b = axes_b[0].get_figure()\n",
    "fig_b.savefig(\"fig_b.png\")"
   ]
  },
  {
   "cell_type": "markdown",
   "id": "7d96e728",
   "metadata": {},
   "source": [
    "EC-MS plot with carrier gases on right y-axis (uncalibrated) and products on left (calibrated)\n",
    "-----------------------------------------------------------------------------------------------------------------------------------\n",
    "Note that it is not possible to mix linear and logarithmic scales in one plot with ixdat."
   ]
  },
  {
   "cell_type": "code",
   "execution_count": null,
   "id": "8d78e6cf",
   "metadata": {},
   "outputs": [],
   "source": [
    "meas_c = good_bit2.cut(tspan=[5035, 5200])\n",
    "meas_c.set_quantifier(good_bit2.quantifier)\n",
    "meas_c.tstamp += meas_c.t[0]\n",
    "\n",
    "meas_c.set_bg(\n",
    "   tspan_bg=[0, 20], mass_list=[\"M2\", \"M32\"]\n",
    ")\n",
    "\n",
    "axes_c = meas_c.plot_measurement(\n",
    "    mol_lists = [[], [\"H2\", \"O2\"]], # left y-axis\n",
    "    logplot=False,\n",
    "    legend=False,\n",
    ")\n",
    "meas_c.plot_measurement(\n",
    "   mass_list=[\"M4\", \"M28\", \"M40\"],  # right y-axis\n",
    "    #unit=[\"nmol/s\"],  # [left, right] y-axes\n",
    "    logplot=False,\n",
    "    legend=False,\n",
    "    axes=axes_c, #to reuse the axis for co-plotting two separate parts of the measurement\n",
    "    #linestyle=\"--\",\n",
    ")\n",
    "axes_c[2].set_ylabel(\"cal. sig. / [nmol s$^{-1}$]\")\n",
    "# axes_c[-1].set_ylim(bottom=-5)\n",
    "\n",
    "fig_c = axes_c[0].get_figure()\n",
    "fig_c.savefig(\"fig_c.png\")"
   ]
  },
  {
   "cell_type": "markdown",
   "id": "99c13a58",
   "metadata": {},
   "source": [
    "EC-MS plot with a third with system parameters added\n",
    "-----------------------------------------------------------------------------\n",
    "\n",
    "In some cases it can be interesting to co-plot some other data, e.g. system parameters like iongauge pressure or MFC flow rates. Let's have a look at the iongauge pressure during one of the CV cycles and plot that in a third panel of our regular EC-MS plots."
   ]
  },
  {
   "cell_type": "code",
   "execution_count": null,
   "id": "b50a135c",
   "metadata": {
    "scrolled": true
   },
   "outputs": [],
   "source": [
    "from matplotlib import pyplot as plt\n",
    "from matplotlib import gridspec\n",
    "\n",
    "# since we want to co-plot system parameters here, which were not part of the exported dataset, we need to use another version\n",
    "# of our dataset # imported above, which hasn't been calibrated yet, so let's quickly calibrate that now\n",
    "meas_part.set_quantifier(\n",
    "    calibration=loaded_cal,\n",
    "    mol_list=[\"H2\", \"O2\"],\n",
    "    mass_list=[\"M2\", \"M32\"],\n",
    ")\n",
    "\n",
    "\n",
    "# cut the relevant part from a big dataset\n",
    "meas_d = meas_part.cut(tspan=[5035, 5200])\n",
    "\n",
    "# grab the iongauge pressure\n",
    "ig1 = meas_d.grab(\"Iongauge value [mbar]\")\n",
    "\n",
    "# create a figure with 3 panels\n",
    "fig_4 = plt.figure()\n",
    "gs = gridspec.GridSpec(7, 1, fig_4)\n",
    "ax_ms = plt.subplot(gs[0:3, 0]) # MS signals panel\n",
    "ax_ms_right = ax_ms.twinx()     # right axis for the MS signals, not used here\n",
    "ax_ec = plt.subplot(gs[3:5, 0]) # EC signals panel\n",
    "ax_ec_right = ax_ec.twinx()     # axis for the current\n",
    "ax_ig= plt.subplot(gs[5:7, 0]) # Ion Gauge panel\n",
    "fig_4.set_figheight(7)\n",
    "fig_4.set_figwidth(fig_4.get_figheight() * 1.25)\n",
    "\n",
    "ax_ms.tick_params(\n",
    "    axis=\"x\", top=True, bottom=True, labeltop=True, labelbottom=False\n",
    ")\n",
    "ax_ec.tick_params(\n",
    "    axis=\"x\", top=True, bottom=True, labeltop=False, labelbottom=False\n",
    ")\n",
    "ax_ig.tick_params(\n",
    "    axis=\"x\", top=True, bottom=True, labeltop=False, labelbottom=True\n",
    ")\n",
    "\n",
    "ax_ms.set_xlabel(\"time / [s]\")\n",
    "ax_ms.xaxis.set_label_position(\"top\")\n",
    "\n",
    "ax_ig.set_xlabel(\"time / [s]\")\n",
    "ax_ig.set_ylabel(\"IG pressure / [mbar]\")\n",
    "ax_ms.set_ylabel(\"Signal / [A]\")\n",
    "ax_ms.set_yscale(\"log\")\n",
    "\n",
    "\n",
    "ax_ec.set_ylabel(\"U$_{RHE}$ / (V)\")\n",
    "ax_ec_right.set_ylabel(\"J$_{total}$ / (mA cm$^{-2}$)\", color=\"red\")\n",
    "\n",
    "\n",
    "# add the MS and EC data to the correct axes using ixdat's \"plot measurement\"\n",
    "meas_d.plot_measurement(axes=[ax_ms, ax_ec, ax_ms_right, ax_ec_right])\n",
    "# this overwrites some of the axis labels, so we need to define them (again) if we want them non-standard\n",
    "ax_ec.set_xlabel(\"\")\n",
    "ax_ec_right.set_xlabel(\"\")\n",
    "\n",
    "# add the iongauge data from the \"grabbed\" data series\n",
    "ax_ig.plot(ig1[0], ig1[1])"
   ]
  },
  {
   "cell_type": "markdown",
   "id": "bea62a08",
   "metadata": {},
   "source": [
    "Congratulations! You have reached the end of this tutorial and are now an expert in loading, calibrating and plotting EC-MS data using ``ixdat`` and ``spectro_inlets_quantification``."
   ]
  }
 ],
 "metadata": {
  "kernelspec": {
   "display_name": "Python 3 (ipykernel)",
   "language": "python",
   "name": "python3"
  },
  "language_info": {
   "codemirror_mode": {
    "name": "ipython",
    "version": 3
   },
   "file_extension": ".py",
   "mimetype": "text/x-python",
   "name": "python",
   "nbconvert_exporter": "python",
   "pygments_lexer": "ipython3",
   "version": "3.11.4"
  }
 },
 "nbformat": 4,
 "nbformat_minor": 5
}
