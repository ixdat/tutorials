{
 "cells": [
  {
   "cell_type": "markdown",
   "id": "aacd2c1f",
   "metadata": {},
   "source": [
    "Setup\n",
    "=====\n",
    "\n",
    "\n",
    "Data requirement\n",
    "------------------\n",
    "\n",
    "This tutorial uses the data here:\n",
    "\n",
    "https://www.dropbox.com/scl/fo/izrntet0hbrbbp0qqqfqb/ALzL2lxFB3ZVpRKLtKhEfQY?rlkey=yhuidobc329vcv0sgqu77l9he&dl=0\n",
    "\n",
    "Download the data (select-all + \"download\"), move it into the folder where this script is, and extract (un-zip) it.\n",
    "The folder structure should look like:\n",
    "```\n",
    "- your_tutorial_folder\n",
    "|- this_demo.ipynb\n",
    "|- data\n",
    "  |- 01\n",
    "  |- 02\n",
    "  |- 03\n",
    "...\n",
    "```\n",
    "\n",
    "This next block of code is just defining the folder where the data is, and checking that it looks right. \n",
    "We'll use the `pathlib` module of the `Path` package. This is a nice way to keep track of locations on your computer in python. It enables you for example, to use the `/` character to mean \"in a folder\"."
   ]
  },
  {
   "cell_type": "code",
   "execution_count": null,
   "id": "f2181cc5",
   "metadata": {},
   "outputs": [],
   "source": [
    "from pathlib import Path\n",
    "\n",
    "data_dir = Path(\"./data\")  # this is where the data is. In this case in the \"data\" subfolder in the folder with this script\n",
    "\n",
    "# To make sure that we have the right folder, we can print its contents:\n",
    "for p in data_dir.iterdir():\n",
    "    print(p)\n",
    "\n",
    "# it should print the names of the folders \"01\", \"02\", \"03\", and \"04\""
   ]
  },
  {
   "cell_type": "markdown",
   "id": "7fe4e88f",
   "metadata": {},
   "source": [
    "ixdat\n",
    "----\n",
    "\n",
    "Make sure you have the newest version of ixdat installed. Enter the following in your terminal or Anaconda Prompt:\n",
    "\n",
    "  `pip install --upgrade ixdat`\n",
    "\n",
    "To make sure that we've installed ixdat correctly, we import it in this first line.\n",
    "Ixdat is nice and tells us where it is being imported from."
   ]
  },
  {
   "cell_type": "code",
   "execution_count": null,
   "id": "bbb85e32",
   "metadata": {},
   "outputs": [],
   "source": [
    "import ixdat  \n",
    "# should print \"importing ixdat v0.2.3dev1 from ...\\Anaconda3\\lib\\site-packages\\ixdat\\__init__.py"
   ]
  },
  {
   "cell_type": "markdown",
   "id": "c63e6890",
   "metadata": {},
   "source": [
    "Why jupyter notebook?\n",
    "-----------------\n",
    "\n",
    "Jupyter Notebooks are nice for tutorials, because you can combine text and code and easily run one cell at a time.\n",
    "However, there are many ways to run python scripts. Two that I particular like are the IDE's (integrated development environments) called *spyder* and *PyCharm*. Spyder comes with *Anaconda*. PyCharm is not, but is also available for free installation. Both of those IDE's can give you interractive plot windows which are nice for zooming. I use spyder for simple plotting and analysis scripts and pycharm if I'm developing something (like working on ixdat or a project repository).\n",
    "\n",
    "For .py versions of these demonstrations, see here: https://github.com/ixdat/tutorials/tree/main/demos/22E06_ICL"
   ]
  },
  {
   "cell_type": "markdown",
   "id": "55472704",
   "metadata": {},
   "source": [
    "Demo 1: Plotting EC cycles\n",
    "======================\n",
    "\n",
    "This example shows how to read in and plot EC data.\n",
    "The data is from an iridium oxide electrode which was cycled from the hydrogen region to the oxygen region over night, making a big feature associated (probably) with getting protons in and out of a hydrated layer."
   ]
  },
  {
   "cell_type": "code",
   "execution_count": null,
   "id": "8d90edf3",
   "metadata": {},
   "outputs": [],
   "source": [
    "# In ixdat, you can do most things by starting with the \"Measurement\" class. Import it like this:\n",
    "from ixdat import Measurement \n",
    "\n",
    "# This loads the EC data:\n",
    "ec = Measurement.read(\n",
    "    data_dir / \"01/iridium_butterfly_short_CVA.mpt\", reader=\"biologic\", name=\"cool stuff\"\n",
    ") \n",
    "# We can see what it is like this:\n",
    "print(ec)"
   ]
  },
  {
   "cell_type": "markdown",
   "id": "6ca77c81",
   "metadata": {},
   "source": [
    "ECMeasurement\n",
    "----------------\n",
    "\n",
    "Every measurement in ixdat has a standard \"plotter\", and a standard \"plot\" function.\n",
    "For an `ECMeasurement`, the standard plot function plots current and potential on left and right y-axes, respectively, against time on the x-axes."
   ]
  },
  {
   "cell_type": "code",
   "execution_count": null,
   "id": "1ca8214f",
   "metadata": {},
   "outputs": [],
   "source": [
    "ec.plot()"
   ]
  },
  {
   "cell_type": "markdown",
   "id": "8eef8330",
   "metadata": {},
   "source": [
    "So, it's a really long measurement and you can't quite resolve it on this scale. So we should zoom in.\n",
    "\n",
    "There are a lot of ways to customize the plots output by ixdat. You can check which ones are available for your plotter by using python's help function (this prints the docstring):"
   ]
  },
  {
   "cell_type": "code",
   "execution_count": null,
   "id": "153ecf19",
   "metadata": {},
   "outputs": [],
   "source": [
    "help(ec.plot)"
   ]
  },
  {
   "cell_type": "markdown",
   "id": "13567de0",
   "metadata": {},
   "source": [
    "This reveals that one way to zoom in is to use the `tspan` argument.\n",
    "Here, we'll zoom in, and, for fun, change the color of the current:"
   ]
  },
  {
   "cell_type": "code",
   "execution_count": null,
   "id": "f0f128b3",
   "metadata": {},
   "outputs": [],
   "source": [
    "ec.plot(tspan=[1000, 1100], J_color=\"green\")"
   ]
  },
  {
   "cell_type": "markdown",
   "id": "393d5fac",
   "metadata": {},
   "source": [
    "It'd be nice if it gave the potential vs RHE and the calibrated current.\n",
    "We can do so using the `calibrate` function. \n",
    "\n",
    "(This measurement was done with an HgSO4 RE at pH=1, on a 5-mm-diameter disk electrode, with the WE connected through a 500 Ohm resistor.)"
   ]
  },
  {
   "cell_type": "code",
   "execution_count": null,
   "id": "03aeb44a",
   "metadata": {},
   "outputs": [],
   "source": [
    "ec.calibrate(RE_vs_RHE=0.715, A_el=0.196, R_Ohm=500) \n",
    "\n",
    "axes = ec.plot(tspan=[1000, 1100])\n",
    "\n",
    "axes[0].set_ylabel(\"Potential vs RHE in V\")"
   ]
  },
  {
   "cell_type": "markdown",
   "id": "171b19f5",
   "metadata": {},
   "source": [
    "If we want data *out* of a `Measurement`, we can use its `grab` function, which returns two vectors - one time and one the selected value. Grabbing also gives you an opportunity to specify a `tspan`.\n",
    "\n",
    "To get a list of what things can be \"grabbed\", you can look two places: `series_names` and `aliases`:"
   ]
  },
  {
   "cell_type": "code",
   "execution_count": null,
   "id": "7db87ed7",
   "metadata": {},
   "outputs": [],
   "source": [
    "print(ec.series_names)\n",
    "print(ec.aliases)"
   ]
  },
  {
   "cell_type": "markdown",
   "id": "ccf13475",
   "metadata": {},
   "source": [
    "For example, to grab the raw potential (which is an alias for `Ewe/V`):"
   ]
  },
  {
   "cell_type": "code",
   "execution_count": null,
   "id": "9f20244e",
   "metadata": {},
   "outputs": [],
   "source": [
    "t, v = ec.grab(\"raw_potential\", tspan=[2000, 2005])\n",
    "print(\"This is the time vector:\")\n",
    "print(t) \n",
    "print(\"This is the raw potential vector:\")\n",
    "print(v) "
   ]
  },
  {
   "cell_type": "markdown",
   "id": "5f07c33c",
   "metadata": {},
   "source": [
    "Unfortunately, these lists are not complete, because they don't include *calibrated* series. In this case, because we have calibrated potential and normalized current, you can also grab `\"potential\"` and `\"current\"` to get the calibrated values. We are working on a way to make this clear and transparent for users.\n",
    "\n",
    "For more details on how to get data out of an `ECMeasurement`, see the tutorial here:\n",
    "https://github.com/ixdat/tutorials/blob/main/electrochemistry/01_reading_and_using_data.ipynb\n",
    "\n",
    "\n",
    "CyclicVoltammogram\n",
    "-------------------\n",
    "\n",
    "Now, if we want to plot it as a cyclic voltammogram, i.e. potential against current, we can use the `plot_vs_potential` function. But it's nicer to convert it to a `CyclicVoltammogram` object as follows."
   ]
  },
  {
   "cell_type": "code",
   "execution_count": null,
   "id": "ea2b6b41",
   "metadata": {},
   "outputs": [],
   "source": [
    "cv = ec.as_cv()\n",
    "print(cv)"
   ]
  },
  {
   "cell_type": "markdown",
   "id": "f8438c56",
   "metadata": {},
   "source": [
    "Then the *default* plotting method becomes plotting vs potential:"
   ]
  },
  {
   "cell_type": "code",
   "execution_count": null,
   "id": "ef433609",
   "metadata": {},
   "outputs": [],
   "source": [
    "cv.plot()"
   ]
  },
  {
   "cell_type": "markdown",
   "id": "6be75141",
   "metadata": {},
   "source": [
    "Because there are so many cycles in this case, it's hard to see what is going on.\n",
    "This can be improved by adding color to the cycles, with the plot_cycles function. Notice the color bar."
   ]
  },
  {
   "cell_type": "code",
   "execution_count": null,
   "id": "bfd3d31a",
   "metadata": {},
   "outputs": [],
   "source": [
    "help(cv.plot_cycles)"
   ]
  },
  {
   "cell_type": "code",
   "execution_count": null,
   "id": "54887b3d",
   "metadata": {},
   "outputs": [],
   "source": [
    "cv.plot_cycles(cmap_name=\"rainbow\")"
   ]
  },
  {
   "cell_type": "markdown",
   "id": "1c8d54a8",
   "metadata": {},
   "source": [
    "We can also select one cycle at a time by indexing. To compare cycles 1 and 200, for example:"
   ]
  },
  {
   "cell_type": "code",
   "execution_count": null,
   "id": "0a71a5ac",
   "metadata": {},
   "outputs": [],
   "source": [
    "cv.correct_ohmic_drop(R_Ohm=500 * 0.15)\n",
    "\n",
    "ax = cv[1].plot(color=\"k\", label=\"early\")\n",
    "cv[200].plot(color=\"b\", ax=ax, label=\"late\")\n",
    "ax.legend()"
   ]
  },
  {
   "cell_type": "markdown",
   "id": "cb6b7cdd",
   "metadata": {},
   "source": [
    "Notice the way the `Axis` object returned by the first plot function is *reused* for the second plot function.\n",
    "\n",
    "A super handy method that comes with ixdat `CyclicVoltammogram` is `redefine_cycle`, which gives you control over where in the CV the cycle number increments.\n",
    "\n",
    "For example, to get the cycle to increment at 0.5 V vs RHE in the anodic direction, do this:"
   ]
  },
  {
   "cell_type": "code",
   "execution_count": null,
   "id": "42976491",
   "metadata": {},
   "outputs": [],
   "source": [
    "cv.redefine_cycle(start_potential=0.5, redox=True)"
   ]
  },
  {
   "cell_type": "markdown",
   "id": "6a7a1b9c",
   "metadata": {},
   "source": [
    "You can spot the difference by plotting the cycles again:"
   ]
  },
  {
   "cell_type": "code",
   "execution_count": null,
   "id": "5ab4a5ca",
   "metadata": {},
   "outputs": [],
   "source": [
    "ax = cv[1].plot(color=\"k\", label=\"early\")  # TODO: cv.select_cycle(1, clos_endpoints=True)\n",
    "cv[200].plot(color=\"b\", ax=ax, label=\"late\")\n",
    "ax.legend()"
   ]
  },
  {
   "cell_type": "markdown",
   "id": "9621bc30",
   "metadata": {},
   "source": [
    "For more handy stuff on cyclic voltammogram manipulation and analysis, see here: \n",
    "https://github.com/ixdat/tutorials/blob/main/electrochemistry/02_comparing_cycles.ipynb\n",
    "\n",
    "A final word on this demo is that, because of the way that ixdat uses inheritance for one class to build on another, all of the stuff demonstrated here also works for EC-MS data s. That is to say, you can convert an `ECMSMeasurement` to an `ECMSCyclicVoltammogram` using the `as_cv` method and then select cycles by indexing exactly like here."
   ]
  },
  {
   "cell_type": "markdown",
   "id": "37f918af",
   "metadata": {},
   "source": [
    "Demo 2: Normalizing Spectra\n",
    "=======================\n",
    "\n",
    "This demonstrates the basics of ixdat's treatment of spectra, using XRD spectra as an example. Unlike the last one which started with the `Measurement` class, we will start with the `Specturm` class to read the data.\n",
    "\n",
    "First, we look at one spectrum. It's read by `Spectrum.read`, comes with a simple plotter, and has the data in its `x` and `y` attributes."
   ]
  },
  {
   "cell_type": "code",
   "execution_count": null,
   "id": "86a8ae44",
   "metadata": {},
   "outputs": [],
   "source": [
    "import numpy as np\n",
    "from matplotlib import pyplot as plt\n",
    "from ixdat import Spectrum\n",
    "\n",
    "\n",
    "xrd_1 = Spectrum.read(data_dir / \"04\" / \"Rude4_omega0p5.xrdml\", reader=\"xrdml\")\n",
    "xrd_1.plot()\n",
    "\n",
    "print(\"x:\")\n",
    "print(xrd_1.x)"
   ]
  },
  {
   "cell_type": "markdown",
   "id": "94cc1416",
   "metadata": {},
   "source": [
    "Now we loop through all the spectra and plot them:"
   ]
  },
  {
   "cell_type": "code",
   "execution_count": null,
   "id": "6a3f1166",
   "metadata": {},
   "outputs": [],
   "source": [
    "# This is a dictionary which, for each sample name, has a formula, a file name, and a color:\n",
    "to_plot = {\n",
    "    \"Ru\": (\"RuO$_2$\", \"Rude4_omega0p5.xrdml\", \"black\"),\n",
    "    \"RuTi_1\": (\"Ru$_{0.9}$Ti$_{0.1}$O$_2$\", \"RutiZelensky_omega0p5.xrdml\", \"blue\"),\n",
    "    \"RuTi_2\": (\"Ru$_{0.75}$Ti$_{0.25}$O$_2$\", \"RutiMacron_omega0p5.xrdml\", \"green\"),\n",
    "    \"Ti\": (\"TiO$_2$\", \"Poseidon_omega0p5.xrdml\", \"red\")\n",
    "}\n",
    "\n",
    "# We'll import the four spectra one at a time, plot them, and put them in here for later use:\n",
    "spectra = {}\n",
    "\n",
    "for name, (formula, file_name, color) in to_plot.items():\n",
    "    xrd = Spectrum.read(data_dir / \"04\" / file_name, reader=\"xrdml\")\n",
    "    ax = xrd.plot(color=color)\n",
    "    ax.set_title(formula)\n",
    "    spectra[name] = xrd"
   ]
  },
  {
   "cell_type": "code",
   "execution_count": null,
   "id": "a0a33a97",
   "metadata": {},
   "outputs": [],
   "source": [
    "# Now we'll plot them again, but on one axis and normalize to the substrate peak\n",
    "\n",
    "fig, ax = plt.subplots()\n",
    "for name, (formula, file_name, color) in to_plot.items():\n",
    "    xrd = spectra[name]\n",
    "    x, y = xrd.x, xrd.y\n",
    "    y_fto_peak = max(y[np.logical_and(37 < x, x < 38.5)])\n",
    "    ax.plot(x, y / y_fto_peak, label=formula, color=color)\n",
    "\n",
    "ax.set_xlabel(\"two theta / [deg]\")\n",
    "ax.set_ylabel(\"norm. intensity\")\n",
    "ax.legend()"
   ]
  },
  {
   "cell_type": "markdown",
   "id": "560bc126",
   "metadata": {},
   "source": [
    "Demo 3: Two-dimensional data sets\n",
    "==================================="
   ]
  },
  {
   "cell_type": "markdown",
   "id": "25fca9ad",
   "metadata": {},
   "source": [
    "What if you take spectra continuously over time? Then you end up with a 2-deminsional **field**, where time defines one axis and the scanning variable defines the second.\n",
    "\n",
    "An object containing spectra taken over time is called a `SpectrumSeries` in ixdat. If the object also contains one-dimensional **value series** like potential and current, it is then called a `SpectroMeasurement`. (Note that \"spectro\" here refers to spectrum, *not* the company Spectro Inlets.)\n",
    "\n",
    "Here we'll take a quick look at using insitu UV-Vis as an example of Spectroelectrochemistry. This loads as a specific type of `SpectroMeasurement`, the `ECOpticalMeasurement`.\n",
    "\n",
    "The data is courtesy of Caiwu Liang and is taken on an amorphous IrOx film electrodeposited on FTO glass: https://doi.org/10.21203/rs.3.rs-2605628/v1\n",
    "\n",
    "Again, we use the `Measurement` class's `read` method to load the data from the raw data files."
   ]
  },
  {
   "cell_type": "code",
   "execution_count": null,
   "id": "36e4fa99",
   "metadata": {},
   "outputs": [],
   "source": [
    "from ixdat import Measurement\n",
    "\n",
    "sec_meas = Measurement.read(\n",
    "    data_dir / \"02/test-7SEC.csv\",\n",
    "    path_to_ref_spec_file=data_dir / \"02/WL.csv\",\n",
    "    path_to_U_J_file=data_dir / \"02/test-7_JV.csv\",\n",
    "    scan_rate=1,\n",
    "    tstamp=1,\n",
    "    reader=\"msrh_sec\",\n",
    ")\n",
    "print(sec_meas)"
   ]
  },
  {
   "cell_type": "markdown",
   "id": "f7bea44d",
   "metadata": {},
   "source": [
    "A very cool but challenging aspect of `SpectrumSeries` and `SpectroMeasurement`s is that there are many ways to visualize a 2-D data set. Here we go through some of the basic ones:\n",
    "\n",
    "The default plot method of a `SpectroECMeasurement` puts optical absorption data as a heat map in the top panel and electrochemistry data in the bottom panel, all against a common time axis:"
   ]
  },
  {
   "cell_type": "code",
   "execution_count": null,
   "id": "778c6ef5",
   "metadata": {},
   "outputs": [],
   "source": [
    "sec_meas.plot(cmap_name=\"jet\")"
   ]
  },
  {
   "cell_type": "markdown",
   "id": "7c7a7f14",
   "metadata": {},
   "source": [
    "Just like an `ECMeasurement`, we can calibrate by setting providing the RE potential on the RHE scale.\n",
    "Unlike an `ECMeasurement`, we can calibrate the optical absorption data by defining the potential at which to consider it the reference potential. Here we use the start potential, 0.6 V vs RHE."
   ]
  },
  {
   "cell_type": "code",
   "execution_count": null,
   "id": "bd05af26",
   "metadata": {},
   "outputs": [],
   "source": [
    "sec_meas.calibrate_RE(RE_vs_RHE=0.2)\n",
    "sec_meas.set_reference_spectrum(V_ref=0.6)"
   ]
  },
  {
   "cell_type": "markdown",
   "id": "4c154e9b",
   "metadata": {},
   "source": [
    "This time, we plot the data vs potential using `plot_vs_potential`, and, to make the onset potential more obvious, apply a log scale to the current axis."
   ]
  },
  {
   "cell_type": "code",
   "execution_count": null,
   "id": "711070c7",
   "metadata": {},
   "outputs": [],
   "source": [
    "axes = sec_meas.plot_vs_potential(cmap_name=\"jet\")\n",
    "axes[1].set_yscale(\"log\")"
   ]
  },
  {
   "cell_type": "markdown",
   "id": "2f935d51",
   "metadata": {},
   "source": [
    "Notice how much smoother the data is after setting the reference spectrum. It gets bumpy at about 1.5 V vs RHE, which is probably due to bubbles.\n",
    "\n",
    "A vertical cross-section of the absorption data is a spectrum, and a horizontal cross-section would track the intensity of one wavelength with time. As an example of the former:\n"
   ]
  },
  {
   "cell_type": "code",
   "execution_count": null,
   "id": "022666b3",
   "metadata": {},
   "outputs": [],
   "source": [
    "spectrum_1 = sec_meas.get_dOD_spectrum(V=1.3, V_ref=0.6)\n",
    "print(spectrum_1)"
   ]
  },
  {
   "cell_type": "markdown",
   "id": "4e7ac006",
   "metadata": {},
   "source": [
    "It returns a `Spectrum` object, the default plot of which is naturally to plot the spectrum:"
   ]
  },
  {
   "cell_type": "code",
   "execution_count": null,
   "id": "00c4276f",
   "metadata": {},
   "outputs": [],
   "source": [
    "spectrum_1.plot()"
   ]
  },
  {
   "cell_type": "markdown",
   "id": "bbceadcc",
   "metadata": {},
   "source": [
    "This, like `Measurement`'s plot functions, returns an axis, which can be reused, like this:"
   ]
  },
  {
   "cell_type": "code",
   "execution_count": null,
   "id": "0c08dd5c",
   "metadata": {},
   "outputs": [],
   "source": [
    "ax = spectrum_1.plot(color=\"k\", label=\"before onset\")\n",
    "\n",
    "spectrum_2 = sec_meas.get_dOD_spectrum(V=1.5, V_ref=1.3)\n",
    "spectrum_2.plot(color=\"r\", label=\"change around onset\", ax=ax)\n",
    "ax.set_ylim(bottom=0)"
   ]
  },
  {
   "cell_type": "markdown",
   "id": "2def5731",
   "metadata": {},
   "source": [
    "Finally, `SpectroECMeasurement` has a useful plotting method that shows all the spectra together with a scalebar to indicate potential (a \"waterfall\" plot):"
   ]
  },
  {
   "cell_type": "code",
   "execution_count": null,
   "id": "1dacf130",
   "metadata": {},
   "outputs": [],
   "source": [
    "sec_meas.plot_waterfall()"
   ]
  },
  {
   "cell_type": "markdown",
   "id": "004cefa5",
   "metadata": {},
   "source": [
    "For more detailed tools on Spectroelectrochemistry, see:\n",
    "https://github.com/ixdat/tutorials/blob/main/spectroelectrochemistry/spectroelectrochemistry_demo.ipynb"
   ]
  },
  {
   "cell_type": "markdown",
   "id": "f360769a",
   "metadata": {},
   "source": [
    "Demo 4: Calibrating EC-MS data\n",
    "========================="
   ]
  },
  {
   "cell_type": "markdown",
   "id": "825a6f80",
   "metadata": {},
   "source": [
    "For this example, we'll use EC and MS data that is spread across a few files.\n",
    "First, we load and plot both MS data sets, which were taken right after each other:"
   ]
  },
  {
   "cell_type": "code",
   "execution_count": null,
   "id": "e413d75b",
   "metadata": {},
   "outputs": [],
   "source": [
    "ms_1 = Measurement.read(\n",
    "    data_dir / \"03/2022-04-28 19_18_01 Ruti.tsv\",\n",
    "    reader=\"zilien\",\n",
    "    technique=\"MS\"\n",
    ")\n",
    "ms_1.plot()\n",
    "\n",
    "ms_2 = Measurement.read(\n",
    "    data_dir / \"03/2022-04-28 23_25_58 Ruti.tsv\",\n",
    "    reader=\"zilien\",\n",
    "    technique=\"MS\"\n",
    ")\n",
    "ms_2.plot()"
   ]
  },
  {
   "cell_type": "markdown",
   "id": "e7f4ef7e",
   "metadata": {},
   "source": [
    "The main \"value proposition\" of ixdat is centered around its use of the `+` operator for *appending* measurements (`ec + ec` or `ms + ms`) or *hyphenating* measurements (`ec + ms`).\n",
    "\n",
    "Here we append the two MS measurements and plot the combined one:"
   ]
  },
  {
   "cell_type": "code",
   "execution_count": null,
   "id": "c10a1e84",
   "metadata": {},
   "outputs": [],
   "source": [
    "ms = ms_2 + ms_1\n",
    "ms.plot()"
   ]
  },
  {
   "cell_type": "markdown",
   "id": "980f849c",
   "metadata": {},
   "source": []
  },
  {
   "cell_type": "code",
   "execution_count": null,
   "id": "1c571793",
   "metadata": {},
   "outputs": [],
   "source": [
    "ec_1 = Measurement.read_set(data_dir / \"03/01\",  reader=\"biologic\", suffix=\".mpt\")\n",
    "ec_1.plot()\n",
    "\n",
    "ecms_1 = ec_1 + ms\n",
    "print(ecms_1)"
   ]
  },
  {
   "cell_type": "code",
   "execution_count": null,
   "id": "3bf682a4",
   "metadata": {},
   "outputs": [],
   "source": [
    "ecms_1.plot()"
   ]
  },
  {
   "cell_type": "code",
   "execution_count": null,
   "id": "1e0406ae",
   "metadata": {},
   "outputs": [],
   "source": [
    "ec_2 = Measurement.read_set(data_dir / \"03/06\",  reader=\"biologic\", suffix=\".mpt\")\n",
    "ecms_2 = ec_2 + ms\n",
    "ecms_2.plot()"
   ]
  },
  {
   "cell_type": "code",
   "execution_count": null,
   "id": "4cb320a0",
   "metadata": {},
   "outputs": [],
   "source": [
    "O2_M32 = ecms_1.ecms_calibration_curve(\n",
    "    mol=\"O2\",\n",
    "    mass=\"M32\",\n",
    "    n_el=4,\n",
    "    tspan_list=[(1300, 1350), (1900, 1950), (2500, 2550)],\n",
    "    tspan_bg=(950, 1000)\n",
    ")"
   ]
  },
  {
   "cell_type": "code",
   "execution_count": null,
   "id": "dd9c06f4",
   "metadata": {},
   "outputs": [],
   "source": [
    "print(O2_M32)"
   ]
  },
  {
   "cell_type": "code",
   "execution_count": null,
   "id": "8c7b0e96",
   "metadata": {},
   "outputs": [],
   "source": [
    "from ixdat.techniques.ms import MSCalResult\n",
    "\n",
    "CO2_M44 = MSCalResult(mol=\"CO2\", mass=\"M44\", F=O2_M32.F)\n",
    "print(CO2_M44)"
   ]
  },
  {
   "cell_type": "code",
   "execution_count": null,
   "id": "00537b78",
   "metadata": {},
   "outputs": [],
   "source": [
    "ecms_2.calibrate(ms_cal_results=[O2_M32, CO2_M44], RE_vs_RHE=0, A_el=0.196)\n",
    "ecms_2.plot(mol_list=[\"O2\"], tspan=[0, 300], unit=\"nmol/s\", logplot=False, tspan_bg=[50, 80])"
   ]
  },
  {
   "cell_type": "code",
   "execution_count": null,
   "id": "47bbe71c",
   "metadata": {},
   "outputs": [],
   "source": [
    "t, n_dot_O2 = ecms_2.grab(\"n_dot_O2\")\n",
    "print(n_dot_O2)"
   ]
  },
  {
   "cell_type": "markdown",
   "id": "08eb6064",
   "metadata": {},
   "source": [
    "Demo 5: Spectra from Zilien\n",
    "===================\n",
    "\n",
    "The Spectro Inlets software, Zilien, has the nice feature that you can take mass scans intermittently while otherwise tracking individual masses. Here, we show how to look at the resulting data in ixdat.\n",
    "\n",
    "First, we define the path to an MID measurement with associated spectra and to a single spectrum."
   ]
  },
  {
   "cell_type": "code",
   "execution_count": null,
   "id": "2743256d",
   "metadata": {},
   "outputs": [],
   "source": [
    "path_to_meas = data_dir / \"05/2023-05-16 11_34_16 mix_cal_gas_glass_slide.tsv\"\n",
    "\n",
    "path_to_spec = (\n",
    "    data_dir\n",
    "    / \"05/mix_cal_gas_glass_slide mass scans/mass scan started at measurement time 0000066.tsv\"\n",
    ")"
   ]
  },
  {
   "cell_type": "code",
   "execution_count": null,
   "id": "6592903f",
   "metadata": {},
   "outputs": [],
   "source": [
    "spec = Spectrum.read(\n",
    "    path_to_spec,\n",
    "    reader=\"zilien\",\n",
    ")\n",
    "\n",
    "spec.plot(color=\"k\")"
   ]
  },
  {
   "cell_type": "markdown",
   "id": "debbfb1a",
   "metadata": {},
   "source": [
    "Now we read a Measurement with spectra.  Notice that the loading of spectra or not can be controlled by the arguments to `Measurement.read`.\n",
    "The resulting object is a type of `SpectroMeasurement`, where \"spectro\" means \"containing spectra\", not relating to the company Spectro Inlets."
   ]
  },
  {
   "cell_type": "code",
   "execution_count": null,
   "id": "ec290b4f",
   "metadata": {},
   "outputs": [],
   "source": [
    "meas = Measurement.read(\n",
    "    path_to_meas,\n",
    "    reader=\"zilien\",\n",
    "    technique=\"MS-MS_spectra\",  # include MS spectra\n",
    "    # technique=\"MS\",  # do not include MS spectra by default\n",
    "    # include_mass_scans=True,  # include spectra! (overrides technique)\n",
    "    # include_mass_scans=False,  # don't include spectra! (overrides technique)\n",
    ")\n",
    "meas.plot(\n",
    "    mass_list=[\"M40\", \"M18\"],\n",
    ")\n",
    "print(meas)"
   ]
  },
  {
   "cell_type": "markdown",
   "id": "5e82eccb",
   "metadata": {},
   "source": [
    "As for ECOptical (tutorial 3), Spectra are accessed from the SpectroMeasurement by indexing:"
   ]
  },
  {
   "cell_type": "code",
   "execution_count": null,
   "id": "62e05299",
   "metadata": {},
   "outputs": [],
   "source": [
    "meas[1].plot()  # plots a spectrum"
   ]
  },
  {
   "cell_type": "code",
   "execution_count": null,
   "id": "c7d48922",
   "metadata": {},
   "outputs": [],
   "source": [
    "\n",
    "meas.spectrum_series.continuous = True\n",
    "meas.plot(\n",
    "    mass_list=[\"M40\", \"M18\"],\n",
    ")\n",
    "\n",
    "meas_no_spec = Measurement.read(\n",
    "    path_to_meas, reader=\"zilien\", technique=\"MS\", include_mass_scans=False\n",
    ")\n",
    "meas_no_spec.plot(\n",
    "    mass_list=[\"M40\", \"M18\"],\n",
    ")\n",
    "\n",
    "\n",
    "meas.spectrum_series.continuous = False\n",
    "meas_p1 = meas.cut(tspan=[0, 3000])\n",
    "meas_p1.plot()\n",
    "meas_p2 = meas.cut(tspan=[3000, 4000])\n",
    "\n",
    "meas_joined = meas_p1 + meas_p2  # tests adding of two MSSpectroMeasurement objects\n",
    "meas_joined.plot()\n",
    "\n",
    "meas_p1_no_spec = meas_no_spec.cut(tspan=[0, 3000])\n",
    "meas_p2_no_spec = meas_no_spec.cut(tspan=[3000, 4000])\n",
    "\n",
    "meas_joined_p2_no_spec = meas_p1 + meas_p2_no_spec\n",
    "meas_joined_p2_no_spec.plot()\n",
    "\n",
    "meas_joined_p1_no_spec = meas_p1_no_spec + meas_p2\n",
    "meas_joined_p1_no_spec.plot()\n",
    "\n",
    "meas_p3 = meas.cut(tspan=[4500, 5000])  # no spectra here!\n",
    "meas_p3.plot()  # bottom panel is empty\n",
    "print(len(meas_p3.spectrum_series))  # 0\n",
    "\n",
    "meas_joined = meas_p1 + meas_p2 + meas_p3  # order doesn't matter!\n",
    "print(len(meas_joined.spectrum_series))  # 4\n",
    "meas_joined.plot()"
   ]
  },
  {
   "cell_type": "code",
   "execution_count": null,
   "id": "bdc863fa",
   "metadata": {},
   "outputs": [],
   "source": []
  }
 ],
 "metadata": {
  "kernelspec": {
   "display_name": "Python 3 (ipykernel)",
   "language": "python",
   "name": "python3"
  },
  "language_info": {
   "codemirror_mode": {
    "name": "ipython",
    "version": 3
   },
   "file_extension": ".py",
   "mimetype": "text/x-python",
   "name": "python",
   "nbconvert_exporter": "python",
   "pygments_lexer": "ipython3",
   "version": "3.11.5"
  }
 },
 "nbformat": 4,
 "nbformat_minor": 5
}
