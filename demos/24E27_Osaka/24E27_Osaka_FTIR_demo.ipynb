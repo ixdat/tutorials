{
 "cells": [
  {
   "cell_type": "markdown",
   "id": "fea01457",
   "metadata": {},
   "source": [
    "This notebook demonstrates EC-FTIR data importing and plotting in ixdat. \n",
    "\n",
    "**Data Required**\n",
    "\n",
    "Download the data here: https://www.dropbox.com/scl/fo/7bovex9srnifsogre1qff/h?rlkey=qa11s5lol5wuyf4t25olio6uq&dl=0 \n",
    "\n",
    "Change the `data_dir` variable below to match where the data is on your computer.\n",
    "If you put the data in the same folder as this notebook, you can just write `data_dir = Path(\".\")`"
   ]
  },
  {
   "cell_type": "code",
   "execution_count": null,
   "id": "4ea08a8a",
   "metadata": {},
   "outputs": [],
   "source": [
    "from pathlib import Path\n",
    "from ixdat import Spectrum, Measurement\n",
    "from matplotlib import pyplot as plt\n",
    "\n",
    "plt.close(\"all\")\n",
    "\n",
    "data_dir = (\n",
    "    Path.home() / \"Dropbox/WORKSPACES/ICL people/Matthew/opus_ftir/DPT files for Soren\"\n",
    ")"
   ]
  },
  {
   "cell_type": "code",
   "execution_count": null,
   "id": "ee4d3d6a",
   "metadata": {},
   "outputs": [],
   "source": [
    "ftir = Spectrum.read(\n",
    "    data_dir / \"231205 DME 3% EtOH\",\n",
    "    time_first=\"05/12/2023 15:20:33.696 (GMT+0)\",  #  %d/%m/%Y %H:%M:%S.%f  23 chars\n",
    "    time_last=\"05/12/2023 17:59:57.725 (GMT+0)\",\n",
    "    reader=\"opus_ftir\",\n",
    ")\n",
    "\n",
    "ftir.heat_plot()  # heat plot\n",
    "# help(ftir.heat_plot)"
   ]
  },
  {
   "cell_type": "code",
   "execution_count": null,
   "id": "e60b21a7",
   "metadata": {},
   "outputs": [],
   "source": [
    "ftir.plot_waterfall()  # waterfall plot\n",
    "# help(ftir.plot_waterfall)"
   ]
  },
  {
   "cell_type": "code",
   "execution_count": null,
   "id": "becbaa91",
   "metadata": {},
   "outputs": [],
   "source": [
    "ftir.plot(\n",
    "    dt=1000,\n",
    "    xspan=[1000, 1500],\n",
    "    xspan_bg=[1000, 1020],\n",
    "    color=\"k\",\n",
    "    y_values=\"n\",\n",
    "    average=False,\n",
    ")  # stacked spectra plot\n",
    "# help(ftir.plot)"
   ]
  },
  {
   "cell_type": "code",
   "execution_count": null,
   "id": "70d571aa",
   "metadata": {},
   "outputs": [],
   "source": [
    "ec = Measurement.read_set(\n",
    "    data_dir / \"231205 DME 3% EtOH\",\n",
    "    suffix=\".mpt\",\n",
    "    reader=\"biologic\",\n",
    ")\n",
    "ec.calibrate(R_Ohm=30)\n",
    "# ec.plot()"
   ]
  },
  {
   "cell_type": "code",
   "execution_count": null,
   "id": "664ae056",
   "metadata": {},
   "outputs": [],
   "source": [
    "ecftir = ec + ftir\n",
    "\n",
    "ecftir.plot_measurement()\n",
    "# help(ecftir.plot_measurement)"
   ]
  },
  {
   "cell_type": "code",
   "execution_count": null,
   "id": "3f9ed8a7",
   "metadata": {},
   "outputs": [],
   "source": [
    "ax = ecftir.plot_stacked_spectra(\n",
    "    dn=40,\n",
    "    xspan=[1050, 1250],\n",
    "    xspan_bg=[1050, 1060],\n",
    "    scale_factor=1.5,\n",
    "    # average=False,  # no averaging\n",
    "    average=5,  # average 5 spectra each side\n",
    "    # average=True,  # most averaging\n",
    ")\n",
    "# help(ecftir.plot_stacked_spectra)"
   ]
  },
  {
   "cell_type": "code",
   "execution_count": null,
   "id": "b7b5b384",
   "metadata": {},
   "outputs": [],
   "source": [
    "fig = plt.gcf()\n",
    "fig.set_figwidth(fig.get_figheight() * 0.8)\n",
    "fig.tight_layout()\n",
    "fig.savefig(\"ECFTIR_fig_6.svg\")"
   ]
  }
 ],
 "metadata": {
  "kernelspec": {
   "display_name": "Python 3 (ipykernel)",
   "language": "python",
   "name": "python3"
  },
  "language_info": {
   "codemirror_mode": {
    "name": "ipython",
    "version": 3
   },
   "file_extension": ".py",
   "mimetype": "text/x-python",
   "name": "python",
   "nbconvert_exporter": "python",
   "pygments_lexer": "ipython3",
   "version": "3.11.5"
  }
 },
 "nbformat": 4,
 "nbformat_minor": 5
}
