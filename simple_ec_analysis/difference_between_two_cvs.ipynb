{
 "cells": [
  {
   "cell_type": "markdown",
   "metadata": {},
   "source": [
    "Comparing cycles of a cyclic voltammagram\n",
    "====================================\n",
    "\n",
    "Here we will show how to use `ixdat` and python to analyze two cases where the difference in integrated current between two cycles in cyclic voltammatry is needed. \n",
    "\n",
    "Using the CO stripping example, we will show three ways of visualizing the stripping experiment and determining the surface area of a platinum electrode. Each gives the amount of charge associated with oxidation of adsorbed CO, and thus an estimate of the electrochemical surface area of the electrode. From most generalized to most automated, they are:\n",
    "\n",
    "- Finding the right timespans, getting the data as numpy vectors with `grab()`, and integrating with `trapz()`\n",
    "- Selecting the data with `CyclicVoltammagram` indexing and `select_sweep()`, and integrating with `integrate()`\n",
    "- Using `subtract()` to get a `CyclicVoltammagramDiff` object that does the analysis.\n",
    "\n",
    "Then, you will, on your own, choose whichever method you like to calculate the amount of charge associated with the reduction of an oxide layer, which gives an estimate of the thickness of the oxide layer."
   ]
  },
  {
   "cell_type": "markdown",
   "metadata": {},
   "source": [
    "Setup\n",
    "--------\n",
    "We'll use `numpy` and `pathlib.Path` as well as `ixdat`'s `CyclicVoltammagram` measurement type."
   ]
  },
  {
   "cell_type": "code",
   "execution_count": null,
   "metadata": {},
   "outputs": [],
   "source": [
    "import numpy as np\n",
    "from pathlib import Path\n",
    "\n",
    "try:\n",
    "    from ixdat.techniques import CyclicVoltammagram\n",
    "except ImportError:\n",
    "    from ixdat.techniques import CyclicVoltammogram as CyclicVoltammagram"
   ]
  },
  {
   "cell_type": "markdown",
   "metadata": {},
   "source": [
    "Loading raw data\n",
    "----------------------"
   ]
  },
  {
   "cell_type": "code",
   "execution_count": null,
   "metadata": {},
   "outputs": [],
   "source": [
    "\n",
    "\n",
    "# Below is An option to load from file. Today we will load from url\n",
    "# co_strip = CyclicVoltammagram.read(d\"../loading_appending_and_saving/co_strip.csv\", reader=\"ixdat\")\n",
    "import ixdat\n",
    "if ixdat.__version__[0:3] == \"0.2\":\n",
    "    co_strip = CyclicVoltammagram.read_url(\n",
    "        \"https://raw.githubusercontent.com/ixdat/tutorials/main/electrochemistry/data/co_strip.csv\",\n",
    "        reader=\"ixdat\",\n",
    "    )\n",
    "elif ixdat.__version__[0:3] == \"0.1\":\n",
    "    co_strip = CyclicVoltammagram.read_url(\n",
    "        \"https://raw.githubusercontent.com/ixdat/tutorials/ixdat_v0p1/loading_appending_and_saving/co_strip.csv\",\n",
    "        reader=\"ixdat\",\n",
    "    )\n",
    "else:\n",
    "    raise Exception(f\"This tutorial does not support ixdat version {ixdat.__version__}\")\n",
    "\n",
    "co_strip.plot() "
   ]
  },
  {
   "cell_type": "markdown",
   "metadata": {},
   "source": [
    "Selecting and calibrating\n",
    "----------------------------------"
   ]
  },
  {
   "cell_type": "code",
   "execution_count": null,
   "metadata": {},
   "outputs": [],
   "source": [
    "co_strip.calibrate(A_el=0.196, R_Ohm=100)\n",
    "help(co_strip.calibrate)"
   ]
  },
  {
   "cell_type": "code",
   "execution_count": null,
   "metadata": {},
   "outputs": [],
   "source": [
    "co_strip.grab(co_strip.V_str)"
   ]
  },
  {
   "cell_type": "code",
   "execution_count": null,
   "metadata": {},
   "outputs": [],
   "source": [
    "co_strip.plot_measurement()\n",
    "co_strip.plot()"
   ]
  },
  {
   "cell_type": "markdown",
   "metadata": {},
   "source": [
    "Method 1: `grab()` and `np.trapz`\n",
    "-----------------------------------------"
   ]
  },
  {
   "cell_type": "code",
   "execution_count": null,
   "metadata": {},
   "outputs": [],
   "source": [
    "co_strip.plot_measurement(tspan=[180, 220])\n",
    "co_strip.plot_measurement(tspan=[300, 340])"
   ]
  },
  {
   "cell_type": "code",
   "execution_count": null,
   "metadata": {},
   "outputs": [],
   "source": [
    "tspan_strip = [195, 215]\n",
    "t_strip, I_strip = co_strip.grab(\"raw_current\", tspan=tspan_strip)\n",
    "\n",
    "\n",
    "tspan_base = [310, 330]\n",
    "t_base, I_base = co_strip.grab(\"raw_current\", tspan=tspan_base)"
   ]
  },
  {
   "cell_type": "code",
   "execution_count": null,
   "metadata": {},
   "outputs": [],
   "source": [
    "print(\"got these vectors for the strip:\")\n",
    "print(f\"t/[s] = {t_strip} \\nand \\nI/[mA] = {I_strip}\")\n",
    "print()\n",
    "print(f\"they have these shapes: {t_strip.shape} and {I_strip.shape}\")\n",
    "print()\n",
    "print(f\"And for the base, the vectors have shapes: {t_base.shape} and {I_base.shape}\")"
   ]
  },
  {
   "cell_type": "markdown",
   "metadata": {},
   "source": [
    "**Checking what we've got**\n"
   ]
  },
  {
   "cell_type": "code",
   "execution_count": null,
   "metadata": {},
   "outputs": [],
   "source": [
    "from matplotlib import pyplot as plt\n",
    "\n",
    "fig, ax1 = plt.subplots()\n",
    "ax1.plot(t_strip, I_strip)\n",
    "ax1.set_xlabel(\"time / [s]\")\n",
    "ax1.set_ylabel(\"current / [mA]\")\n",
    "ax1.set_title(\"stripping current\")"
   ]
  },
  {
   "cell_type": "code",
   "execution_count": null,
   "metadata": {},
   "outputs": [],
   "source": [
    "fig, ax2 = plt.subplots()\n",
    "ax2.plot(t_base, I_base, label=\"base\")\n",
    "ax2.plot(t_strip, I_strip, label=\"strip\")\n",
    "ax2.legend()\n",
    "ax2.set_xlabel(\"time / [s]\")\n",
    "ax2.set_ylabel(\"current / [mA]\")\n",
    "ax2.set_title(\"strip and base current vs time\")"
   ]
  },
  {
   "cell_type": "code",
   "execution_count": null,
   "metadata": {},
   "outputs": [],
   "source": [
    "v_strip = co_strip.grab_for_t(\"potential\", t_strip)\n",
    "v_base = co_strip.grab_for_t(\"potential\", t_base)\n",
    "\n",
    "fig, ax = plt.subplots()\n",
    "ax.plot(v_base, I_base, color=\"k\", label=\"base\")\n",
    "ax.plot(v_strip, I_strip, color=\"g\", label=\"strip\")\n",
    "ax.legend()\n",
    "ax.set_xlabel(\"potential / [V]\")\n",
    "ax.set_ylabel(\"current / [mA]\")"
   ]
  },
  {
   "cell_type": "code",
   "execution_count": null,
   "metadata": {},
   "outputs": [],
   "source": [
    "tspan_base = [311.5, 331.5]\n",
    "t_base, I_base = co_strip.grab(\"raw_current\", tspan=tspan_base)\n",
    "v_base = co_strip.grab_for_t(\"potential\", t_base)\n",
    "\n",
    "\n",
    "fig, ax = plt.subplots()\n",
    "ax.plot(v_base, I_base, color=\"k\", label=\"base\")\n",
    "ax.plot(v_strip, I_strip, color=\"g\", label=\"strip\")\n",
    "ax.legend()\n",
    "ax.set_xlabel(co_strip.V_str)\n",
    "ax.set_ylabel(\"current / [mA]\")"
   ]
  },
  {
   "cell_type": "markdown",
   "metadata": {},
   "source": [
    "**And do the integration!**"
   ]
  },
  {
   "cell_type": "code",
   "execution_count": null,
   "metadata": {},
   "outputs": [],
   "source": [
    "Q_strip = np.trapz(I_strip, t_strip) * 1e-3  # converts mC --> C\n",
    "\n",
    "Q_base = np.trapz(I_base, t_base) * 1e-3\n",
    "\n",
    "Q_CO_ox = Q_strip - Q_base\n",
    "\n",
    "from ixdat.constants import FARADAY_CONSTANT\n",
    "\n",
    "\n",
    "#  CO + H2O --> CO2  + 2(H+ + e-)\n",
    "n_CO_ox = Q_CO_ox / (FARADAY_CONSTANT * 2)\n",
    "\n",
    "print(f\"charge passed = {Q_CO_ox*1e6} uC, corresponding to {n_CO_ox*1e9} nmol of CO oxidized\")\n"
   ]
  },
  {
   "cell_type": "markdown",
   "metadata": {},
   "source": [
    "Method 2: Sweep selection and `integrate()`\n",
    "----------------------------------------------------------"
   ]
  },
  {
   "cell_type": "code",
   "execution_count": null,
   "metadata": {},
   "outputs": [],
   "source": [
    "co_strip.plot_measurement(\n",
    "    J_str=\"cycle\"\n",
    ")"
   ]
  },
  {
   "cell_type": "code",
   "execution_count": null,
   "metadata": {},
   "outputs": [],
   "source": [
    "co_strip.redefine_cycle(start_potential=0.3, redox=False)\n",
    "co_strip.plot_measurement(J_str=\"cycle\")"
   ]
  },
  {
   "cell_type": "code",
   "execution_count": null,
   "metadata": {},
   "outputs": [],
   "source": [
    "co_strip[1].plot()"
   ]
  },
  {
   "cell_type": "code",
   "execution_count": null,
   "metadata": {},
   "outputs": [],
   "source": [
    "stripping_cycle = co_strip[1]\n",
    "base_cycle = co_strip[2]\n",
    "\n",
    "ax = stripping_cycle.plot(color=\"green\")\n",
    "base_cycle.plot(ax=ax, color=\"black\")\n",
    "\n",
    "ax.get_figure().savefig(\"two_cycles.png\")"
   ]
  },
  {
   "cell_type": "code",
   "execution_count": null,
   "metadata": {},
   "outputs": [],
   "source": [
    "vspan = [0.6, 1.0]\n",
    "\n",
    "stripping_sweep = stripping_cycle.select_sweep(vspan=vspan)\n",
    "base_sweep = base_cycle.select_sweep(vspan=vspan)\n",
    "\n",
    "stripping_sweep  # to show what you get from this"
   ]
  },
  {
   "cell_type": "code",
   "execution_count": null,
   "metadata": {},
   "outputs": [],
   "source": [
    "ax = stripping_sweep.plot(color=\"g\")\n",
    "base_sweep.plot(color=\"k\", ax=ax)"
   ]
  },
  {
   "cell_type": "code",
   "execution_count": null,
   "metadata": {},
   "outputs": [],
   "source": [
    "Q_strip = stripping_sweep.integrate(\"raw_current\", ax=\"new\") * 1e-3\n",
    "Q_base = base_sweep.integrate(\"raw_current\", ax=\"new\") * 1e-3\n",
    "\n",
    "Q_CO_ox = Q_strip - Q_base\n",
    "n_CO_ox = Q_CO_ox / (FARADAY_CONSTANT * 2)\n",
    "\n",
    "print(f\"charge passed = {Q_CO_ox*1e6} uC, corresponding to {n_CO_ox*1e9} nmol of CO oxidized\")"
   ]
  },
  {
   "cell_type": "markdown",
   "metadata": {},
   "source": [
    "Method 3: `CyclicVoltammagramDiff`\n",
    "------------------------------------------------"
   ]
  },
  {
   "cell_type": "code",
   "execution_count": null,
   "metadata": {},
   "outputs": [],
   "source": [
    "stripping_cycle = co_strip[1]\n",
    "base_cycle = co_strip[2]\n",
    "\n",
    "ax = stripping_cycle.plot(color=\"g\")\n",
    "base_cycle.plot(ax=ax, color=\"k\")"
   ]
  },
  {
   "cell_type": "code",
   "execution_count": null,
   "metadata": {},
   "outputs": [],
   "source": [
    "cv_diff = stripping_cycle.diff_with(base_cycle)\n",
    "\n",
    "cv_diff.plot()"
   ]
  },
  {
   "cell_type": "code",
   "execution_count": null,
   "metadata": {},
   "outputs": [],
   "source": [
    "cv_diff.plot_diff()"
   ]
  },
  {
   "cell_type": "code",
   "execution_count": null,
   "metadata": {},
   "outputs": [],
   "source": [
    "cv_diff.plot_measurement()"
   ]
  },
  {
   "cell_type": "code",
   "execution_count": null,
   "metadata": {},
   "outputs": [],
   "source": [
    "Q_CO_ox = cv_diff.integrate(\"raw_current\", vspan=[0.6, 1.0]) * 1e-3  # 1e-3 converts mC --> C\n",
    "n_CO_ox = Q_CO_ox / (FARADAY_CONSTANT * 2)\n",
    "\n",
    "print(f\"charge passed = {Q_CO_ox*1e6} uC, corresponding to {n_CO_ox*1e9} nmol of CO oxidized\")"
   ]
  },
  {
   "cell_type": "markdown",
   "metadata": {},
   "source": [
    "Your turn!\n",
    "========"
   ]
  },
  {
   "cell_type": "code",
   "execution_count": null,
   "metadata": {},
   "outputs": [],
   "source": [
    "# oxide_reduction = CyclicVoltammagram.read(data_directory / \"oxide_reduction.csv\", reader=\"ixdat\")\n",
    "\n",
    "if ixdat.__version__[0:3] == \"0.2\":\n",
    "    oxide_reduction = CyclicVoltammagram.read_url(\n",
    "        \"https://raw.githubusercontent.com/ixdat/tutorials/main/electrochemistry/data/oxide_reduction.csv\",\n",
    "        reader=\"ixdat\",\n",
    "    )\n",
    "elif ixdat.__version__[0:3] == \"0.1\":\n",
    "    oxide_reduction = CyclicVoltammagram.read_url(\n",
    "        \"https://raw.githubusercontent.com/ixdat/tutorials/ixdat_v0p1/loading_appending_and_saving/oxide_reduction.csv\",\n",
    "        reader=\"ixdat\",\n",
    "    )\n",
    "else:\n",
    "    raise Exception(f\"This tutorial does not support ixdat version {ixdat.__version__}\")\n",
    "\n",
    "oxide_reduction.tstamp += oxide_reduction.t[0]\n",
    "oxide_reduction.calibrate(A_el=0.196, R_Ohm=100)\n",
    "\n",
    "oxide_reduction.plot_measurement()\n",
    "oxide_reduction.plot(tspan=[300, 800])"
   ]
  },
  {
   "cell_type": "code",
   "execution_count": null,
   "metadata": {},
   "outputs": [],
   "source": []
  }
 ],
 "metadata": {
  "kernelspec": {
   "display_name": "Python 3",
   "language": "python",
   "name": "python3"
  },
  "language_info": {
   "codemirror_mode": {
    "name": "ipython",
    "version": 3
   },
   "file_extension": ".py",
   "mimetype": "text/x-python",
   "name": "python",
   "nbconvert_exporter": "python",
   "pygments_lexer": "ipython3",
   "version": "3.7.4"
  }
 },
 "nbformat": 4,
 "nbformat_minor": 4
}
