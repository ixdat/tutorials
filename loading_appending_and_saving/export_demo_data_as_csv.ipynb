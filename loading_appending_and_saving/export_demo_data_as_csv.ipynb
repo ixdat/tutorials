{
 "cells": [
  {
   "cell_type": "markdown",
   "metadata": {},
   "source": [
    "Loading, selecting, calibrating, and exporting data\n",
    "====================================\n"
   ]
  },
  {
   "cell_type": "markdown",
   "metadata": {},
   "source": [
    "Setup\n",
    "--------\n",
    "When you've installed ixdat using `pip install ixdat` in your terminal or Anaconda prompt, no additional setup is needed!"
   ]
  },
  {
   "cell_type": "markdown",
   "metadata": {},
   "source": [
    "Loading raw data\n",
    "----------------------\n",
    "This first block defines where the data is and tells us the contents of the folder."
   ]
  },
  {
   "cell_type": "code",
   "execution_count": null,
   "metadata": {},
   "outputs": [],
   "source": [
    "from pathlib import Path\n",
    "data_directory = Path.home() / \"Dropbox/ixdat_resources/tutorials_data/extended_platinum_ec\"\n",
    "[f.name for f in data_directory.iterdir()]"
   ]
  },
  {
   "cell_type": "markdown",
   "metadata": {},
   "source": [
    "And now we're ready to read it with ixdat!\n",
    "\n",
    "The general way to load a file with `ixdat is Measurement.read()`"
   ]
  },
  {
   "cell_type": "code",
   "execution_count": null,
   "metadata": {},
   "outputs": [],
   "source": [
    "from ixdat import Measurement\n",
    "\n",
    "cv_meas = Measurement.read(\n",
    "    data_directory / \"01_demo_03_CVA_C01.mpt\", reader=\"biologic\"\n",
    ")\n",
    "\n",
    "cv_meas  # Notice that it is an ECMeasurement, because of the reader used."
   ]
  },
  {
   "cell_type": "markdown",
   "metadata": {},
   "source": [
    "These are the available readers (the list will be expanded!):"
   ]
  },
  {
   "cell_type": "code",
   "execution_count": null,
   "metadata": {},
   "outputs": [],
   "source": [
    "from ixdat.readers import READER_CLASSES  # just to check it out. Normally you won't need this.\n",
    "\n",
    "READER_CLASSES  # a python dictionary. The keys are the names associated with each reader class"
   ]
  },
  {
   "cell_type": "markdown",
   "metadata": {},
   "source": [
    "Accessing and plotting data from a Measurement object\n",
    "---------------------------------------------\n",
    "\n",
    "Let's look at the actual data in the measurement that we just imported. The best way to get the numerical data (numpy arrays) is using `grab()`."
   ]
  },
  {
   "cell_type": "code",
   "execution_count": null,
   "metadata": {},
   "outputs": [],
   "source": [
    "cv_meas.grab(\"Ewe/V\")  # \"Ewe/V\" is what Biologic calls working electrode potential in its files."
   ]
  },
  {
   "cell_type": "markdown",
   "metadata": {},
   "source": [
    "`grab()` gives two numpy arrays. The first is time, the second is the variable. With these vectors, you can \n",
    "- do math \n",
    "- plot, like this:"
   ]
  },
  {
   "cell_type": "code",
   "execution_count": null,
   "metadata": {},
   "outputs": [],
   "source": [
    "from matplotlib import pyplot as plt  # the standard plotting library\n",
    "\n",
    "t, v = cv_meas.grab(\"Ewe/V\")\n",
    "plt.plot(t, v)\n",
    "\n",
    "# plt.gca().set_xlim([13000, 15000])  # you can zoom in using an xaxis limit"
   ]
  },
  {
   "cell_type": "markdown",
   "metadata": {},
   "source": [
    "Rather than using matplotlib to zoom in, we can also use `ixdat` to select the data before plotting:"
   ]
  },
  {
   "cell_type": "code",
   "execution_count": null,
   "metadata": {},
   "outputs": [],
   "source": [
    "t, v = cv_meas.grab(\"Ewe/V\", tspan=[13000, 15000])\n",
    "plt.plot(t, v)"
   ]
  },
  {
   "cell_type": "markdown",
   "metadata": {},
   "source": [
    "Beter yet, we can use ixdat to plot it for us directly."
   ]
  },
  {
   "cell_type": "code",
   "execution_count": null,
   "metadata": {},
   "outputs": [],
   "source": [
    "cv_meas.plot_measurement()   # plot_measurement() plots data on a time axis."
   ]
  },
  {
   "cell_type": "markdown",
   "metadata": {},
   "source": [
    "A few things to notice:\n",
    "- Potential is on the left y-axis and current on the right, so we have all the essential electrochemistry info! But what if we wanted to plot something else?\n",
    "- It's the whole data set. That is a lot. 7 hours worth!\n",
    "- We didn't specify the colors (black for potential and red for current). `ixdat` guessed that for us.\n",
    "- The reference electrode potential is not calibrated\n",
    "- There are holes in the data (for example at 23000 s)\n",
    "\n",
    "Every object in ixdat is (should be!) documented. Including the `plot_measurement` method. So you can check out what it does using python's `help()` function. This addressess several of the points above:"
   ]
  },
  {
   "cell_type": "code",
   "execution_count": null,
   "metadata": {},
   "outputs": [],
   "source": [
    "help(cv_meas.plot_measurement)"
   ]
  },
  {
   "cell_type": "markdown",
   "metadata": {},
   "source": [
    "Awesome, that answers most of our questions!\n",
    "\n",
    "Play with the plot customization, using e.g. tspan, V_color, J_color, and kwargs like linestyle"
   ]
  },
  {
   "cell_type": "code",
   "execution_count": null,
   "metadata": {},
   "outputs": [],
   "source": [
    "cv_meas.plot_measurement(\n",
    "    tspan=[16000, 17000],   # comment out or uncomment this and following lines!\n",
    "    # V_color=\"blue\",\n",
    "    # linestyle=\"--\",\n",
    ")"
   ]
  },
  {
   "cell_type": "markdown",
   "metadata": {},
   "source": [
    "With regards to the missing parts of the dataset, those are in other files and we will get to it in a bit.\n",
    "\n",
    "First, the reference electrode potential. This is managed with the `calibrate_RE` method with takes a number `RE_vs_RHE` as its argument. This is the potential of the *reference electrode* on the RHE scale (not the reverse)."
   ]
  },
  {
   "cell_type": "code",
   "execution_count": null,
   "metadata": {},
   "outputs": [],
   "source": [
    "cv_meas.calibrate_RE(RE_vs_RHE=0.715)  # this calibrates the reference electrode potential!"
   ]
  },
  {
   "cell_type": "markdown",
   "metadata": {},
   "source": [
    "Now, if we plot a measurement, it is calibrated!"
   ]
  },
  {
   "cell_type": "code",
   "execution_count": null,
   "metadata": {},
   "outputs": [],
   "source": [
    "cv_meas.plot_measurement(\n",
    "    tspan=[13000, 14000]\n",
    ")\n",
    "# how would you plot uncalibrated potential in a measurement that has been calibrated? (see help(plot_measurement))"
   ]
  },
  {
   "cell_type": "markdown",
   "metadata": {},
   "source": [
    "**Adding the other data files into measurement**\n",
    "-------------------------------------------------------\n",
    "\n",
    "The main value proposition of ixdat is to facilitate combining datasets. \n",
    "This is done with the `+` operator. \n",
    "\n",
    "Biologic EC-Lab measurements are a perfect example of where this is necessary. EC-Lab makes it easy to build looped techniques, but saves each sub-technique to its own file. Here, we loop between zero-current (OCP), scanning (CVA), and constant-current (CP) techniques. The `cv_meas` object we've worked with so far only has the CVA data.\n",
    "\n",
    "First, let's load the OCP and CP techniques and plot them seperately:"
   ]
  },
  {
   "cell_type": "code",
   "execution_count": null,
   "metadata": {},
   "outputs": [],
   "source": [
    "ocp_meas = Measurement.read(\n",
    "    data_directory / \"01_demo_02_OCV_C01.mpt\", reader=\"biologic\"\n",
    ")\n",
    "ocp_meas.plot_measurement()\n",
    "\n",
    "cp_meas = Measurement.read(\n",
    "    data_directory / \"01_demo_04_CP_C01.mpt\", reader=\"biologic\"\n",
    ")\n",
    "cp_meas.plot_measurement()"
   ]
  },
  {
   "cell_type": "markdown",
   "metadata": {},
   "source": [
    "There are also clearly holes in those data sets (much bigger holes, since most of the measurement time was in CVA).\n",
    "\n",
    "To get the combined dataset, we append the three individual datasets using `+`, like this:"
   ]
  },
  {
   "cell_type": "code",
   "execution_count": null,
   "metadata": {},
   "outputs": [],
   "source": [
    "combined_meas = cv_meas + ocp_meas + cp_meas\n",
    "# and, we plot it right away to check if it worked:\n",
    "combined_meas.plot_measurement()"
   ]
  },
  {
   "cell_type": "markdown",
   "metadata": {},
   "source": [
    "Here is a zoom-in on a section that includes all data from all three sub-techniques (first CP, then OCP, then CVA):"
   ]
  },
  {
   "cell_type": "code",
   "execution_count": null,
   "metadata": {},
   "outputs": [],
   "source": [
    "combined_meas.plot(tspan=[16000, 17000])"
   ]
  },
  {
   "cell_type": "markdown",
   "metadata": {},
   "source": [
    "The individual measurement are accessible through the combined measurement with it's attribute `component_measurements`:"
   ]
  },
  {
   "cell_type": "code",
   "execution_count": null,
   "metadata": {},
   "outputs": [],
   "source": [
    "combined_meas.component_measurements"
   ]
  },
  {
   "cell_type": "markdown",
   "metadata": {},
   "source": [
    "If you need one of them out again, you can use indexing. In python, indexing is done with square brackets and starts from `0`, so indexing with `2` gives you the third one. In the `combined_meas.component_measurements` list above, the third element is the CP measurement:"
   ]
  },
  {
   "cell_type": "code",
   "execution_count": null,
   "metadata": {},
   "outputs": [],
   "source": [
    "part = combined_meas.component_measurements[2]\n",
    "part"
   ]
  },
  {
   "cell_type": "markdown",
   "metadata": {},
   "source": [
    "This component measurement naturally still has all the `ECMeasurement` attributes like its plotter:"
   ]
  },
  {
   "cell_type": "code",
   "execution_count": null,
   "metadata": {},
   "outputs": [],
   "source": [
    "part.plot_measurement(tspan=[14400, 17000])"
   ]
  },
  {
   "cell_type": "markdown",
   "metadata": {},
   "source": [
    "Saving to ixdat\n",
    "---------------------\n",
    "`ixdat` is built around a relational model of data, and provides a backend that saves data in that structure. This is under development, and for now is a folder on your computer. In the future it will be an SQL database.\n",
    "\n",
    "Right now the only advantage is that it can save and load quicker than exporting and reading from text files. In the future it will provide all the power of relational databases and SQL for organizing your experimental data. This is under development. This part of the tutorial should therefore mainly be considered a teaser.\n",
    "\n",
    "The folder is present in your home directory in the folder `ixdat`, and a sub-folder defined by the `project_name` parameter (default is \"test\"). To change the project name, use the `change_database` function of `ixdat.db`. The first argument is the type of database and for now can only be \"directory\"."
   ]
  },
  {
   "cell_type": "code",
   "execution_count": null,
   "metadata": {},
   "outputs": [],
   "source": [
    "from ixdat.db import change_database\n",
    "\n",
    "change_database(\"directory\", project_name=\"21B19_demo\")"
   ]
  },
  {
   "cell_type": "markdown",
   "metadata": {},
   "source": [
    "Here, we show saving the measurement. First we give it a name to save with, \"extended_platinum_ec\", and then we save it with the `save()` method:"
   ]
  },
  {
   "cell_type": "code",
   "execution_count": null,
   "metadata": {},
   "outputs": [],
   "source": [
    "combined_meas.name = \"extended_platinum_ec\"\n",
    "\n",
    "# save() returns a number, the id of the measurement, which we here name `m_id` for use later:\n",
    "m_id = combined_meas.save()  \n",
    "\n",
    "print(f\"saved with id={m_id}\")  # this kind of f-string is a nice way to print an object to the terminal"
   ]
  },
  {
   "cell_type": "markdown",
   "metadata": {},
   "source": [
    "Take a quick look at what was saved in your ixdat/<project_name> folder.\n",
    "\n",
    "To load a measurememt when you know it's id (the only way implemented so far), use `Measurement.get()`:"
   ]
  },
  {
   "cell_type": "code",
   "execution_count": null,
   "metadata": {},
   "outputs": [],
   "source": [
    "del(combined_meas)  # delete the original one to prove we're really loading\n",
    "\n",
    "loaded_meas = Measurement.get(m_id)  # load the saved measurement"
   ]
  },
  {
   "cell_type": "markdown",
   "metadata": {},
   "source": [
    "And, let's plot it to prove we loaded the same one.\n",
    "\n",
    "Notice how fast it loaded, compared to reading the original files.\n",
    "Notice also that the potential is still calibrated to the RHE scale, so it includes metadata we added here using `ixdat`"
   ]
  },
  {
   "cell_type": "code",
   "execution_count": null,
   "metadata": {},
   "outputs": [],
   "source": [
    "loaded_meas.plot_measurement(\n",
    "    tspan=[16000, 17000],  # A tspan of the measurement with all three sub-techniques: CP, OCP, and CVA.\n",
    ")"
   ]
  },
  {
   "cell_type": "markdown",
   "metadata": {},
   "source": [
    "Selecting data and adjusting the starting time\n",
    "-------------------------------------------------------------\n",
    "\n",
    "An annoying thing about the data plotted above is that the interesting parts - the experiments - are many thousand seconds into the measurement. It would be much nicer for thes experiments to start at 0.\n",
    "\n",
    "Another annoying thing is that we have to keep telling it tspan for plotting (`plot_measurement()`) and grabbing (`grab()`) data, even if we're really just interested in this one range.\n",
    "\n",
    "Here we show how to select the range and redefine t=0. \n",
    "\n",
    "First, selecting the range. This is done with the `cut()` method. Here, we cut a part of the full measurement and call it `co_strip`:"
   ]
  },
  {
   "cell_type": "code",
   "execution_count": null,
   "metadata": {},
   "outputs": [],
   "source": [
    "co_strip = loaded_meas.cut(tspan=[13300, 13800])\n",
    "\n",
    "co_strip.plot_measurement()"
   ]
  },
  {
   "cell_type": "code",
   "execution_count": null,
   "metadata": {},
   "outputs": [],
   "source": [
    "t_0 = co_strip.t[0]\n",
    "print(f\"the time starts at t={t_0}, which is annoying\")"
   ]
  },
  {
   "cell_type": "markdown",
   "metadata": {},
   "source": [
    "And now, to fix the start time, we just change the measurement's `tstamp`:"
   ]
  },
  {
   "cell_type": "code",
   "execution_count": null,
   "metadata": {},
   "outputs": [],
   "source": [
    "co_strip.tstamp += 13300\n",
    "t_0 = co_strip.t[0]\n",
    "print(f\"and now it starts at t={t_0}, which is nice!\")"
   ]
  },
  {
   "cell_type": "markdown",
   "metadata": {},
   "source": [
    "Here, we plot it again vs time (right subplot) to show that the time is shifted. \n",
    "In this code block I also show how you can \n",
    "- use an Axis as an argument, in order to get the subplots. \n",
    "- how to plot current vs potential (`plot_vs_potential()`). \n",
    "- Also, how to save the figure."
   ]
  },
  {
   "cell_type": "code",
   "execution_count": null,
   "metadata": {},
   "outputs": [],
   "source": [
    "from matplotlib import pyplot as plt\n",
    "\n",
    "fig, [ax1, ax2] = plt.subplots(1, 2)\n",
    "fig.set_figwidth(fig.get_figheight()*2.5)\n",
    "\n",
    "co_strip.plot_measurement(\n",
    "    axes=[ax2, ax2.twinx()], V_color=\"b\", J_color=\"g\"\n",
    ")\n",
    "\n",
    "co_strip.plot_vs_potential(ax=ax1)\n",
    "fig.savefig(\"cool_subplots.png\")"
   ]
  },
  {
   "cell_type": "markdown",
   "metadata": {},
   "source": [
    "Here we select a second interesting section and change its tstamp in one step using the `t_zero` argument to `cut()`"
   ]
  },
  {
   "cell_type": "code",
   "execution_count": null,
   "metadata": {},
   "outputs": [],
   "source": [
    "oxide_reduction = loaded_meas.cut(\n",
    "    tspan=[16000, 17000], t_zero=\"start\"\n",
    ")\n",
    "\n",
    "oxide_reduction.plot_measurement()"
   ]
  },
  {
   "cell_type": "markdown",
   "metadata": {},
   "source": [
    "Exporting\n",
    "-------------\n",
    "\n",
    "Exporting is as simple as using a measurement's `export()` method with the desired file name.\n",
    "Here we export both interesting parts that we selected above from the EC measurement:"
   ]
  },
  {
   "cell_type": "code",
   "execution_count": null,
   "metadata": {},
   "outputs": [],
   "source": [
    "co_strip.export(\"./co_strip.csv\")\n",
    "oxide_reduction.export(\"./oxide_reduction.csv\")"
   ]
  },
  {
   "cell_type": "markdown",
   "metadata": {},
   "source": [
    "The reader for the ixdat-exported files is \"ixdat\". Here we show that ixdat can read what it exports by reading and plotting one."
   ]
  },
  {
   "cell_type": "code",
   "execution_count": null,
   "metadata": {},
   "outputs": [],
   "source": [
    "loaded_from_export = Measurement.read(\"./co_strip.csv\", reader=\"ixdat\")\n",
    "loaded_from_export.plot()"
   ]
  },
  {
   "cell_type": "markdown",
   "metadata": {},
   "source": [
    "The end\n",
    "----------\n",
    "The files exported in this tutorial are used in the tutorial \"**Comparing cycles of a cyclic voltammagram**\". See you there!"
   ]
  }
 ],
 "metadata": {
  "kernelspec": {
   "display_name": "Python 3",
   "language": "python",
   "name": "python3"
  },
  "language_info": {
   "codemirror_mode": {
    "name": "ipython",
    "version": 3
   },
   "file_extension": ".py",
   "mimetype": "text/x-python",
   "name": "python",
   "nbconvert_exporter": "python",
   "pygments_lexer": "ipython3",
   "version": "3.7.4"
  }
 },
 "nbformat": 4,
 "nbformat_minor": 4
}
